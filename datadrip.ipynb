{
  "nbformat": 4,
  "nbformat_minor": 0,
  "metadata": {
    "colab": {
      "provenance": [],
      "include_colab_link": true
    },
    "kernelspec": {
      "name": "python3",
      "display_name": "Python 3"
    },
    "language_info": {
      "name": "python"
    }
  },
  "cells": [
    {
      "cell_type": "markdown",
      "metadata": {
        "id": "view-in-github",
        "colab_type": "text"
      },
      "source": [
        "<a href=\"https://colab.research.google.com/github/Aljawharah004/Bank-Analysis/blob/main/datadrip.ipynb\" target=\"_parent\"><img src=\"https://colab.research.google.com/assets/colab-badge.svg\" alt=\"Open In Colab\"/></a>"
      ]
    },
    {
      "cell_type": "markdown",
      "source": [
        "## general info about cards_data.csv\n"
      ],
      "metadata": {
        "id": "sjhk14QuIc3K"
      }
    },
    {
      "cell_type": "code",
      "source": [
        "import pandas as pd\n",
        "\n",
        "df = pd.read_csv(\"cards_data.csv\")\n",
        "\n",
        "# General structure\n",
        "df.info()\n",
        "\n",
        "# Quick statistics\n",
        "df.describe(include=\"all\")\n",
        "\n",
        "# Missing values count\n",
        "df.isnull().sum()"
      ],
      "metadata": {
        "colab": {
          "base_uri": "https://localhost:8080/",
          "height": 838
        },
        "id": "7JVjRfjAIicv",
        "outputId": "43a66318-bb67-43ec-f3e6-066a81ea3334"
      },
      "execution_count": 2,
      "outputs": [
        {
          "output_type": "stream",
          "name": "stdout",
          "text": [
            "<class 'pandas.core.frame.DataFrame'>\n",
            "RangeIndex: 6146 entries, 0 to 6145\n",
            "Data columns (total 13 columns):\n",
            " #   Column                 Non-Null Count  Dtype \n",
            "---  ------                 --------------  ----- \n",
            " 0   id                     6146 non-null   int64 \n",
            " 1   client_id              6146 non-null   int64 \n",
            " 2   card_brand             6146 non-null   object\n",
            " 3   card_type              6146 non-null   object\n",
            " 4   card_number            6146 non-null   int64 \n",
            " 5   expires                6146 non-null   object\n",
            " 6   cvv                    6146 non-null   int64 \n",
            " 7   has_chip               6146 non-null   object\n",
            " 8   num_cards_issued       6146 non-null   int64 \n",
            " 9   credit_limit           6146 non-null   object\n",
            " 10  acct_open_date         6146 non-null   object\n",
            " 11  year_pin_last_changed  6146 non-null   int64 \n",
            " 12  card_on_dark_web       6146 non-null   object\n",
            "dtypes: int64(6), object(7)\n",
            "memory usage: 624.3+ KB\n"
          ]
        },
        {
          "output_type": "execute_result",
          "data": {
            "text/plain": [
              "id                       0\n",
              "client_id                0\n",
              "card_brand               0\n",
              "card_type                0\n",
              "card_number              0\n",
              "expires                  0\n",
              "cvv                      0\n",
              "has_chip                 0\n",
              "num_cards_issued         0\n",
              "credit_limit             0\n",
              "acct_open_date           0\n",
              "year_pin_last_changed    0\n",
              "card_on_dark_web         0\n",
              "dtype: int64"
            ],
            "text/html": [
              "<div>\n",
              "<style scoped>\n",
              "    .dataframe tbody tr th:only-of-type {\n",
              "        vertical-align: middle;\n",
              "    }\n",
              "\n",
              "    .dataframe tbody tr th {\n",
              "        vertical-align: top;\n",
              "    }\n",
              "\n",
              "    .dataframe thead th {\n",
              "        text-align: right;\n",
              "    }\n",
              "</style>\n",
              "<table border=\"1\" class=\"dataframe\">\n",
              "  <thead>\n",
              "    <tr style=\"text-align: right;\">\n",
              "      <th></th>\n",
              "      <th>0</th>\n",
              "    </tr>\n",
              "  </thead>\n",
              "  <tbody>\n",
              "    <tr>\n",
              "      <th>id</th>\n",
              "      <td>0</td>\n",
              "    </tr>\n",
              "    <tr>\n",
              "      <th>client_id</th>\n",
              "      <td>0</td>\n",
              "    </tr>\n",
              "    <tr>\n",
              "      <th>card_brand</th>\n",
              "      <td>0</td>\n",
              "    </tr>\n",
              "    <tr>\n",
              "      <th>card_type</th>\n",
              "      <td>0</td>\n",
              "    </tr>\n",
              "    <tr>\n",
              "      <th>card_number</th>\n",
              "      <td>0</td>\n",
              "    </tr>\n",
              "    <tr>\n",
              "      <th>expires</th>\n",
              "      <td>0</td>\n",
              "    </tr>\n",
              "    <tr>\n",
              "      <th>cvv</th>\n",
              "      <td>0</td>\n",
              "    </tr>\n",
              "    <tr>\n",
              "      <th>has_chip</th>\n",
              "      <td>0</td>\n",
              "    </tr>\n",
              "    <tr>\n",
              "      <th>num_cards_issued</th>\n",
              "      <td>0</td>\n",
              "    </tr>\n",
              "    <tr>\n",
              "      <th>credit_limit</th>\n",
              "      <td>0</td>\n",
              "    </tr>\n",
              "    <tr>\n",
              "      <th>acct_open_date</th>\n",
              "      <td>0</td>\n",
              "    </tr>\n",
              "    <tr>\n",
              "      <th>year_pin_last_changed</th>\n",
              "      <td>0</td>\n",
              "    </tr>\n",
              "    <tr>\n",
              "      <th>card_on_dark_web</th>\n",
              "      <td>0</td>\n",
              "    </tr>\n",
              "  </tbody>\n",
              "</table>\n",
              "</div><br><label><b>dtype:</b> int64</label>"
            ]
          },
          "metadata": {},
          "execution_count": 2
        }
      ]
    },
    {
      "cell_type": "code",
      "source": [
        "# Check basic info\n",
        "print(\"Shape:\", df.shape)  # (rows, columns)\n",
        "print(df.head())  # First 5 rows\n",
        "print(df.columns)  # Column names"
      ],
      "metadata": {
        "colab": {
          "base_uri": "https://localhost:8080/"
        },
        "id": "Af8H8wrWI8ZD",
        "outputId": "6ad14e94-808a-4e83-b908-8a3dc324ab53"
      },
      "execution_count": 3,
      "outputs": [
        {
          "output_type": "stream",
          "name": "stdout",
          "text": [
            "Shape: (6146, 13)\n",
            "     id  client_id  card_brand        card_type       card_number  expires  \\\n",
            "0  4524        825        Visa            Debit  4344676511950444  12/2022   \n",
            "1  2731        825        Visa            Debit  4956965974959986  12/2020   \n",
            "2  3701        825        Visa            Debit  4582313478255491  02/2024   \n",
            "3    42        825        Visa           Credit  4879494103069057  08/2024   \n",
            "4  4659        825  Mastercard  Debit (Prepaid)  5722874738736011  03/2009   \n",
            "\n",
            "   cvv has_chip  num_cards_issued credit_limit acct_open_date  \\\n",
            "0  623      YES                 2       $24295        09/2002   \n",
            "1  393      YES                 2       $21968        04/2014   \n",
            "2  719      YES                 2       $46414        07/2003   \n",
            "3  693       NO                 1       $12400        01/2003   \n",
            "4   75      YES                 1          $28        09/2008   \n",
            "\n",
            "   year_pin_last_changed card_on_dark_web  \n",
            "0                   2008               No  \n",
            "1                   2014               No  \n",
            "2                   2004               No  \n",
            "3                   2012               No  \n",
            "4                   2009               No  \n",
            "Index(['id', 'client_id', 'card_brand', 'card_type', 'card_number', 'expires',\n",
            "       'cvv', 'has_chip', 'num_cards_issued', 'credit_limit', 'acct_open_date',\n",
            "       'year_pin_last_changed', 'card_on_dark_web'],\n",
            "      dtype='object')\n"
          ]
        }
      ]
    },
    {
      "cell_type": "markdown",
      "source": [
        "### cards_data.csv errors check\n"
      ],
      "metadata": {
        "id": "hNlNrcI6IB5H"
      }
    },
    {
      "cell_type": "code",
      "source": [
        "import pandas as pd\n",
        "\n",
        "df = pd.read_csv(\"cards_data.csv\")\n",
        "\n",
        "# Remove $ and convert to numeric (NaN if invalid)\n",
        "df[\"credit_limit\"] = pd.to_numeric(df[\"credit_limit\"].str.replace(\"$\", \"\", regex=False), errors=\"coerce\")\n",
        "\n",
        "# Find invalid rows\n",
        "invalid_rows = df[df[\"credit_limit\"].isna() | (df[\"credit_limit\"] < 0)]\n",
        "\n",
        "print(invalid_rows)"
      ],
      "metadata": {
        "colab": {
          "base_uri": "https://localhost:8080/"
        },
        "id": "XL1z7flNHTvX",
        "outputId": "850bf3a7-06fa-4f4e-fdab-e3ee1bc1c745"
      },
      "execution_count": 4,
      "outputs": [
        {
          "output_type": "stream",
          "name": "stdout",
          "text": [
            "Empty DataFrame\n",
            "Columns: [id, client_id, card_brand, card_type, card_number, expires, cvv, has_chip, num_cards_issued, credit_limit, acct_open_date, year_pin_last_changed, card_on_dark_web]\n",
            "Index: []\n"
          ]
        }
      ]
    },
    {
      "cell_type": "markdown",
      "source": [
        "## general info about users_data.csv\n"
      ],
      "metadata": {
        "id": "1XqLuOExJwcw"
      }
    },
    {
      "cell_type": "code",
      "source": [
        "import pandas as pd\n",
        "\n",
        "df = pd.read_csv(\"users_data.csv\")\n",
        "\n",
        "# General structure\n",
        "df.info()\n",
        "\n",
        "# Quick statistics\n",
        "df.describe(include=\"all\")\n",
        "\n",
        "# Missing values count\n",
        "df.isnull().sum()"
      ],
      "metadata": {
        "colab": {
          "base_uri": "https://localhost:8080/",
          "height": 887
        },
        "id": "zlXE_5CmJhml",
        "outputId": "7339981d-ad6f-4979-ca9a-de4a870947bc"
      },
      "execution_count": 5,
      "outputs": [
        {
          "output_type": "stream",
          "name": "stdout",
          "text": [
            "<class 'pandas.core.frame.DataFrame'>\n",
            "RangeIndex: 2000 entries, 0 to 1999\n",
            "Data columns (total 14 columns):\n",
            " #   Column             Non-Null Count  Dtype  \n",
            "---  ------             --------------  -----  \n",
            " 0   id                 2000 non-null   int64  \n",
            " 1   current_age        2000 non-null   int64  \n",
            " 2   retirement_age     2000 non-null   int64  \n",
            " 3   birth_year         2000 non-null   int64  \n",
            " 4   birth_month        2000 non-null   int64  \n",
            " 5   gender             2000 non-null   object \n",
            " 6   address            2000 non-null   object \n",
            " 7   latitude           2000 non-null   float64\n",
            " 8   longitude          2000 non-null   float64\n",
            " 9   per_capita_income  2000 non-null   object \n",
            " 10  yearly_income      2000 non-null   object \n",
            " 11  total_debt         2000 non-null   object \n",
            " 12  credit_score       2000 non-null   int64  \n",
            " 13  num_credit_cards   2000 non-null   int64  \n",
            "dtypes: float64(2), int64(7), object(5)\n",
            "memory usage: 218.9+ KB\n"
          ]
        },
        {
          "output_type": "execute_result",
          "data": {
            "text/plain": [
              "id                   0\n",
              "current_age          0\n",
              "retirement_age       0\n",
              "birth_year           0\n",
              "birth_month          0\n",
              "gender               0\n",
              "address              0\n",
              "latitude             0\n",
              "longitude            0\n",
              "per_capita_income    0\n",
              "yearly_income        0\n",
              "total_debt           0\n",
              "credit_score         0\n",
              "num_credit_cards     0\n",
              "dtype: int64"
            ],
            "text/html": [
              "<div>\n",
              "<style scoped>\n",
              "    .dataframe tbody tr th:only-of-type {\n",
              "        vertical-align: middle;\n",
              "    }\n",
              "\n",
              "    .dataframe tbody tr th {\n",
              "        vertical-align: top;\n",
              "    }\n",
              "\n",
              "    .dataframe thead th {\n",
              "        text-align: right;\n",
              "    }\n",
              "</style>\n",
              "<table border=\"1\" class=\"dataframe\">\n",
              "  <thead>\n",
              "    <tr style=\"text-align: right;\">\n",
              "      <th></th>\n",
              "      <th>0</th>\n",
              "    </tr>\n",
              "  </thead>\n",
              "  <tbody>\n",
              "    <tr>\n",
              "      <th>id</th>\n",
              "      <td>0</td>\n",
              "    </tr>\n",
              "    <tr>\n",
              "      <th>current_age</th>\n",
              "      <td>0</td>\n",
              "    </tr>\n",
              "    <tr>\n",
              "      <th>retirement_age</th>\n",
              "      <td>0</td>\n",
              "    </tr>\n",
              "    <tr>\n",
              "      <th>birth_year</th>\n",
              "      <td>0</td>\n",
              "    </tr>\n",
              "    <tr>\n",
              "      <th>birth_month</th>\n",
              "      <td>0</td>\n",
              "    </tr>\n",
              "    <tr>\n",
              "      <th>gender</th>\n",
              "      <td>0</td>\n",
              "    </tr>\n",
              "    <tr>\n",
              "      <th>address</th>\n",
              "      <td>0</td>\n",
              "    </tr>\n",
              "    <tr>\n",
              "      <th>latitude</th>\n",
              "      <td>0</td>\n",
              "    </tr>\n",
              "    <tr>\n",
              "      <th>longitude</th>\n",
              "      <td>0</td>\n",
              "    </tr>\n",
              "    <tr>\n",
              "      <th>per_capita_income</th>\n",
              "      <td>0</td>\n",
              "    </tr>\n",
              "    <tr>\n",
              "      <th>yearly_income</th>\n",
              "      <td>0</td>\n",
              "    </tr>\n",
              "    <tr>\n",
              "      <th>total_debt</th>\n",
              "      <td>0</td>\n",
              "    </tr>\n",
              "    <tr>\n",
              "      <th>credit_score</th>\n",
              "      <td>0</td>\n",
              "    </tr>\n",
              "    <tr>\n",
              "      <th>num_credit_cards</th>\n",
              "      <td>0</td>\n",
              "    </tr>\n",
              "  </tbody>\n",
              "</table>\n",
              "</div><br><label><b>dtype:</b> int64</label>"
            ]
          },
          "metadata": {},
          "execution_count": 5
        }
      ]
    },
    {
      "cell_type": "markdown",
      "source": [
        "### userss_data.csv errors check"
      ],
      "metadata": {
        "id": "aUcS7oFqKdDE"
      }
    },
    {
      "cell_type": "code",
      "source": [
        "# Remove $ and commas, handle parentheses as negative values\n",
        "for col in [\"per_capita_income\", \"yearly_income\", \"total_debt\"]:\n",
        "    df[col] = (\n",
        "        df[col]\n",
        "        .astype(str)  # ensure string\n",
        "        .str.replace(\"$\", \"\", regex=False)  # remove dollar sign\n",
        "        .str.replace(\",\", \"\", regex=False)  # remove commas\n",
        "        .str.replace(r\"\\((.*?)\\)\", r\"-\\1\", regex=True)  # convert (123) to -123\n",
        "    )\n",
        "    df[col] = pd.to_numeric(df[col], errors=\"coerce\")  # convert to numeric"
      ],
      "metadata": {
        "id": "XrHoIHXnJ4WO"
      },
      "execution_count": 6,
      "outputs": []
    },
    {
      "cell_type": "markdown",
      "source": [
        "## general info about transactions_data.csv"
      ],
      "metadata": {
        "id": "CIsDX_pDMd0q"
      }
    },
    {
      "cell_type": "code",
      "source": [
        "import pandas as pd\n",
        "\n",
        "df = pd.read_csv(\"transactions_data.csv\")\n",
        "\n",
        "# General structure\n",
        "df.info()\n",
        "\n",
        "# Quick statistics\n",
        "df.describe(include=\"all\")\n",
        "\n",
        "# Missing values count\n",
        "df.isnull().sum()"
      ],
      "metadata": {
        "colab": {
          "base_uri": "https://localhost:8080/",
          "height": 790
        },
        "id": "n0q5OEAlMZvT",
        "outputId": "aea26a21-c85b-4824-abf4-50518a0c637c"
      },
      "execution_count": 7,
      "outputs": [
        {
          "output_type": "stream",
          "name": "stdout",
          "text": [
            "<class 'pandas.core.frame.DataFrame'>\n",
            "RangeIndex: 155901 entries, 0 to 155900\n",
            "Data columns (total 12 columns):\n",
            " #   Column          Non-Null Count   Dtype  \n",
            "---  ------          --------------   -----  \n",
            " 0   id              155901 non-null  int64  \n",
            " 1   date            155901 non-null  object \n",
            " 2   client_id       155901 non-null  int64  \n",
            " 3   card_id         155901 non-null  int64  \n",
            " 4   amount          155901 non-null  object \n",
            " 5   use_chip        155900 non-null  object \n",
            " 6   merchant_id     155900 non-null  float64\n",
            " 7   merchant_city   155900 non-null  object \n",
            " 8   merchant_state  138733 non-null  object \n",
            " 9   zip             137951 non-null  float64\n",
            " 10  mcc             155900 non-null  float64\n",
            " 11  errors          2433 non-null    object \n",
            "dtypes: float64(3), int64(3), object(6)\n",
            "memory usage: 14.3+ MB\n"
          ]
        },
        {
          "output_type": "execute_result",
          "data": {
            "text/plain": [
              "id                     0\n",
              "date                   0\n",
              "client_id              0\n",
              "card_id                0\n",
              "amount                 0\n",
              "use_chip               1\n",
              "merchant_id            1\n",
              "merchant_city          1\n",
              "merchant_state     17168\n",
              "zip                17950\n",
              "mcc                    1\n",
              "errors            153468\n",
              "dtype: int64"
            ],
            "text/html": [
              "<div>\n",
              "<style scoped>\n",
              "    .dataframe tbody tr th:only-of-type {\n",
              "        vertical-align: middle;\n",
              "    }\n",
              "\n",
              "    .dataframe tbody tr th {\n",
              "        vertical-align: top;\n",
              "    }\n",
              "\n",
              "    .dataframe thead th {\n",
              "        text-align: right;\n",
              "    }\n",
              "</style>\n",
              "<table border=\"1\" class=\"dataframe\">\n",
              "  <thead>\n",
              "    <tr style=\"text-align: right;\">\n",
              "      <th></th>\n",
              "      <th>0</th>\n",
              "    </tr>\n",
              "  </thead>\n",
              "  <tbody>\n",
              "    <tr>\n",
              "      <th>id</th>\n",
              "      <td>0</td>\n",
              "    </tr>\n",
              "    <tr>\n",
              "      <th>date</th>\n",
              "      <td>0</td>\n",
              "    </tr>\n",
              "    <tr>\n",
              "      <th>client_id</th>\n",
              "      <td>0</td>\n",
              "    </tr>\n",
              "    <tr>\n",
              "      <th>card_id</th>\n",
              "      <td>0</td>\n",
              "    </tr>\n",
              "    <tr>\n",
              "      <th>amount</th>\n",
              "      <td>0</td>\n",
              "    </tr>\n",
              "    <tr>\n",
              "      <th>use_chip</th>\n",
              "      <td>1</td>\n",
              "    </tr>\n",
              "    <tr>\n",
              "      <th>merchant_id</th>\n",
              "      <td>1</td>\n",
              "    </tr>\n",
              "    <tr>\n",
              "      <th>merchant_city</th>\n",
              "      <td>1</td>\n",
              "    </tr>\n",
              "    <tr>\n",
              "      <th>merchant_state</th>\n",
              "      <td>17168</td>\n",
              "    </tr>\n",
              "    <tr>\n",
              "      <th>zip</th>\n",
              "      <td>17950</td>\n",
              "    </tr>\n",
              "    <tr>\n",
              "      <th>mcc</th>\n",
              "      <td>1</td>\n",
              "    </tr>\n",
              "    <tr>\n",
              "      <th>errors</th>\n",
              "      <td>153468</td>\n",
              "    </tr>\n",
              "  </tbody>\n",
              "</table>\n",
              "</div><br><label><b>dtype:</b> int64</label>"
            ]
          },
          "metadata": {},
          "execution_count": 7
        }
      ]
    },
    {
      "cell_type": "code",
      "source": [
        "# Drop rows where any of the specified columns are null\n",
        "df_clean = df.dropna(subset=[\"client_id\", \"card_id\", \"amount\", \"use_chip\", \"mcc\"])\n",
        "\n",
        "# Check the result\n",
        "print(f\"Rows after cleaning: {len(df_clean)}\")"
      ],
      "metadata": {
        "colab": {
          "base_uri": "https://localhost:8080/"
        },
        "id": "RXq0K7CFNP3J",
        "outputId": "cb6b9bfc-c878-438e-cbd1-76ebe2a7c89a"
      },
      "execution_count": 8,
      "outputs": [
        {
          "output_type": "stream",
          "name": "stdout",
          "text": [
            "Rows after cleaning: 155900\n"
          ]
        }
      ]
    },
    {
      "cell_type": "markdown",
      "source": [
        "### transactions_data.csv errors check"
      ],
      "metadata": {
        "id": "65H1hwazOTgi"
      }
    },
    {
      "cell_type": "code",
      "source": [
        "# Clean amount column\n",
        "df_clean[\"amount\"] = (\n",
        "    df_clean[\"amount\"]\n",
        "    .astype(str)  # ensure it's string\n",
        "    .str.replace(\"$\", \"\", regex=False)  # remove dollar sign\n",
        "    .str.replace(\",\", \"\", regex=False)  # remove commas if any\n",
        "    .str.replace(r\"\\((.*?)\\)\", r\"-\\1\", regex=True)  # convert (123.45) to -123.45\n",
        ")\n",
        "\n",
        "# Convert to numeric\n",
        "df_clean[\"amount\"] = pd.to_numeric(df_clean[\"amount\"], errors=\"coerce\")\n",
        "\n",
        "# Check\n",
        "print(df_clean[\"amount\"].head(20))"
      ],
      "metadata": {
        "colab": {
          "base_uri": "https://localhost:8080/"
        },
        "id": "UHejsMa2OQtC",
        "outputId": "fb7a255c-c88b-4c5d-ed75-262b73ac58d6"
      },
      "execution_count": 9,
      "outputs": [
        {
          "output_type": "stream",
          "name": "stdout",
          "text": [
            "0     -77.00\n",
            "1      14.57\n",
            "2      80.00\n",
            "3     200.00\n",
            "4      46.41\n",
            "5       4.81\n",
            "6      77.00\n",
            "7      26.46\n",
            "8     261.58\n",
            "9      10.74\n",
            "10      3.51\n",
            "11      2.58\n",
            "12     39.63\n",
            "13     43.33\n",
            "14     49.42\n",
            "15      1.09\n",
            "16     73.79\n",
            "17    100.00\n",
            "18     26.04\n",
            "19    -64.00\n",
            "Name: amount, dtype: float64\n"
          ]
        },
        {
          "output_type": "stream",
          "name": "stderr",
          "text": [
            "/tmp/ipython-input-1361183022.py:2: SettingWithCopyWarning: \n",
            "A value is trying to be set on a copy of a slice from a DataFrame.\n",
            "Try using .loc[row_indexer,col_indexer] = value instead\n",
            "\n",
            "See the caveats in the documentation: https://pandas.pydata.org/pandas-docs/stable/user_guide/indexing.html#returning-a-view-versus-a-copy\n",
            "  df_clean[\"amount\"] = (\n",
            "/tmp/ipython-input-1361183022.py:11: SettingWithCopyWarning: \n",
            "A value is trying to be set on a copy of a slice from a DataFrame.\n",
            "Try using .loc[row_indexer,col_indexer] = value instead\n",
            "\n",
            "See the caveats in the documentation: https://pandas.pydata.org/pandas-docs/stable/user_guide/indexing.html#returning-a-view-versus-a-copy\n",
            "  df_clean[\"amount\"] = pd.to_numeric(df_clean[\"amount\"], errors=\"coerce\")\n"
          ]
        }
      ]
    },
    {
      "cell_type": "markdown",
      "source": [
        "### Creating MCC mapping list"
      ],
      "metadata": {
        "id": "9nuw5QuJLoEX"
      }
    },
    {
      "cell_type": "code",
      "source": [
        "import pandas as pd\n",
        "\n",
        "# Create a MCC mapping list (add more if needed)\n",
        "mcc_data = [\n",
        "    {\"mcc\": \"5813.0\", \"mcc_name\": \"Drinking Places (Alcoholic Beverages)\"},\n",
        "    {\"mcc\": \"5499.0\", \"mcc_name\": \"Misc. Food Stores\"},\n",
        "    {\"mcc\": \"5311.0\", \"mcc_name\": \"Department Stores\"},\n",
        "    {\"mcc\": \"4829.0\", \"mcc_name\": \"Money Transfer\"},\n",
        "    {\"mcc\": \"5942.0\", \"mcc_name\": \"Book Stores\"},\n",
        "    {\"mcc\": \"4784.0\", \"mcc_name\": \"Tolls and Bridge Fees\"},\n",
        "    {\"mcc\": \"7801.0\", \"mcc_name\": \"Government Licensing\"},\n",
        "]\n",
        "\n",
        "# Save mapping as CSV\n",
        "mcc_lookup = pd.DataFrame(mcc_data)\n",
        "mcc_lookup.to_csv(\"mcc_lookup_mastercard.csv\", index=False)\n",
        "\n",
        "print(\"MCC mapping file created.\")\n"
      ],
      "metadata": {
        "id": "QzrvG3tOcEZN",
        "outputId": "94528a26-6432-4eef-8dea-ef5b5977adeb",
        "colab": {
          "base_uri": "https://localhost:8080/"
        }
      },
      "execution_count": null,
      "outputs": [
        {
          "output_type": "stream",
          "name": "stdout",
          "text": [
            "MCC mapping file created.\n"
          ]
        }
      ]
    },
    {
      "cell_type": "markdown",
      "source": [
        "### Mapping MCC categories"
      ],
      "metadata": {
        "id": "sTZXdK1wL7zL"
      }
    },
    {
      "cell_type": "code",
      "source": [
        "import pandas as pd\n",
        "\n",
        "\n",
        "# Load your MCC lookup\n",
        "mcc_lookup = pd.read_csv(\"mcc_lookup_mastercard.csv\")  # has columns mcc, mcc_name\n",
        "\n",
        "# Make sure MCC codes are strings & padded to 4 digits\n",
        "df_clean[\"mcc\"] = df_clean[\"mcc\"].astype(str).str.zfill(4)\n",
        "mcc_lookup[\"mcc\"] = mcc_lookup[\"mcc\"].astype(str).str.zfill(4)\n",
        "\n",
        "# Merge directly\n",
        "tx_enriched = df_clean.merge(mcc_lookup, on=\"mcc\", how=\"left\")\n",
        "\n",
        "# Fill missing MCC names\n",
        "tx_enriched[\"mcc_name\"] = tx_enriched[\"mcc_name\"].fillna(\"Unknown MCC\")\n",
        "\n",
        "# 6Add your bucket logic\n",
        "bucket_map = {\n",
        "    \"5813.0\": \"Food & Drink\",\n",
        "    \"5499.0\": \"Groceries\",\n",
        "    \"5311.0\": \"Retail\",\n",
        "    \"4829.0\": \"Financial\",\n",
        "    \"5942.0\": \"Retail\",\n",
        "    \"4784.0\": \"Transportation\",\n",
        "    \"7801.0\": \"Government\"\n",
        "}\n",
        "tx_enriched[\"mcc_bucket\"] = tx_enriched[\"mcc\"].map(bucket_map).fillna(\"Other\")\n",
        "\n",
        "# Save result\n",
        "tx_enriched.to_csv(\"transactions_with_mcc_names.csv\", index=False)\n",
        "\n",
        "print(\"Saved with MCC names and buckets.\")\n"
      ],
      "metadata": {
        "id": "-n5W-JS3TCn0",
        "outputId": "8fb5288e-c6a9-4edc-837c-61355bf9834f",
        "colab": {
          "base_uri": "https://localhost:8080/"
        }
      },
      "execution_count": null,
      "outputs": [
        {
          "output_type": "stream",
          "name": "stderr",
          "text": [
            "/tmp/ipython-input-2330964847.py:8: SettingWithCopyWarning: \n",
            "A value is trying to be set on a copy of a slice from a DataFrame.\n",
            "Try using .loc[row_indexer,col_indexer] = value instead\n",
            "\n",
            "See the caveats in the documentation: https://pandas.pydata.org/pandas-docs/stable/user_guide/indexing.html#returning-a-view-versus-a-copy\n",
            "  df_clean[\"mcc\"] = df_clean[\"mcc\"].astype(str).str.zfill(4)\n"
          ]
        },
        {
          "output_type": "stream",
          "name": "stdout",
          "text": [
            "Saved with MCC names and buckets.\n"
          ]
        }
      ]
    },
    {
      "cell_type": "code",
      "source": [
        "tx_enriched.head()"
      ],
      "metadata": {
        "id": "cO7yECPIc7zW",
        "outputId": "2f41fc6a-c45f-42c7-f94e-00ce2f718a74",
        "colab": {
          "base_uri": "https://localhost:8080/",
          "height": 293
        }
      },
      "execution_count": null,
      "outputs": [
        {
          "output_type": "execute_result",
          "data": {
            "text/plain": [
              "        id                 date  client_id  card_id  amount  \\\n",
              "0  7475327  2010-01-01 00:01:00       1556     2972  -77.00   \n",
              "1  7475328  2010-01-01 00:02:00        561     4575   14.57   \n",
              "2  7475329  2010-01-01 00:02:00       1129      102   80.00   \n",
              "3  7475331  2010-01-01 00:05:00        430     2860  200.00   \n",
              "4  7475332  2010-01-01 00:06:00        848     3915   46.41   \n",
              "\n",
              "            use_chip  merchant_id merchant_city merchant_state      zip  \\\n",
              "0  Swipe Transaction      59935.0        Beulah             ND  58523.0   \n",
              "1  Swipe Transaction      67570.0    Bettendorf             IA  52722.0   \n",
              "2  Swipe Transaction      27092.0         Vista             CA  92084.0   \n",
              "3  Swipe Transaction      27092.0   Crown Point             IN  46307.0   \n",
              "4  Swipe Transaction      13051.0       Harwood             MD  20776.0   \n",
              "\n",
              "      mcc errors                               mcc_name    mcc_bucket  \n",
              "0  5499.0    NaN                      Misc. Food Stores     Groceries  \n",
              "1  5311.0    NaN                      Department Stores        Retail  \n",
              "2  4829.0    NaN                         Money Transfer     Financial  \n",
              "3  4829.0    NaN                         Money Transfer     Financial  \n",
              "4  5813.0    NaN  Drinking Places (Alcoholic Beverages)  Food & Drink  "
            ],
            "text/html": [
              "\n",
              "  <div id=\"df-4aa772f4-4fe9-453e-a4c4-9c0c62c68491\" class=\"colab-df-container\">\n",
              "    <div>\n",
              "<style scoped>\n",
              "    .dataframe tbody tr th:only-of-type {\n",
              "        vertical-align: middle;\n",
              "    }\n",
              "\n",
              "    .dataframe tbody tr th {\n",
              "        vertical-align: top;\n",
              "    }\n",
              "\n",
              "    .dataframe thead th {\n",
              "        text-align: right;\n",
              "    }\n",
              "</style>\n",
              "<table border=\"1\" class=\"dataframe\">\n",
              "  <thead>\n",
              "    <tr style=\"text-align: right;\">\n",
              "      <th></th>\n",
              "      <th>id</th>\n",
              "      <th>date</th>\n",
              "      <th>client_id</th>\n",
              "      <th>card_id</th>\n",
              "      <th>amount</th>\n",
              "      <th>use_chip</th>\n",
              "      <th>merchant_id</th>\n",
              "      <th>merchant_city</th>\n",
              "      <th>merchant_state</th>\n",
              "      <th>zip</th>\n",
              "      <th>mcc</th>\n",
              "      <th>errors</th>\n",
              "      <th>mcc_name</th>\n",
              "      <th>mcc_bucket</th>\n",
              "    </tr>\n",
              "  </thead>\n",
              "  <tbody>\n",
              "    <tr>\n",
              "      <th>0</th>\n",
              "      <td>7475327</td>\n",
              "      <td>2010-01-01 00:01:00</td>\n",
              "      <td>1556</td>\n",
              "      <td>2972</td>\n",
              "      <td>-77.00</td>\n",
              "      <td>Swipe Transaction</td>\n",
              "      <td>59935.0</td>\n",
              "      <td>Beulah</td>\n",
              "      <td>ND</td>\n",
              "      <td>58523.0</td>\n",
              "      <td>5499.0</td>\n",
              "      <td>NaN</td>\n",
              "      <td>Misc. Food Stores</td>\n",
              "      <td>Groceries</td>\n",
              "    </tr>\n",
              "    <tr>\n",
              "      <th>1</th>\n",
              "      <td>7475328</td>\n",
              "      <td>2010-01-01 00:02:00</td>\n",
              "      <td>561</td>\n",
              "      <td>4575</td>\n",
              "      <td>14.57</td>\n",
              "      <td>Swipe Transaction</td>\n",
              "      <td>67570.0</td>\n",
              "      <td>Bettendorf</td>\n",
              "      <td>IA</td>\n",
              "      <td>52722.0</td>\n",
              "      <td>5311.0</td>\n",
              "      <td>NaN</td>\n",
              "      <td>Department Stores</td>\n",
              "      <td>Retail</td>\n",
              "    </tr>\n",
              "    <tr>\n",
              "      <th>2</th>\n",
              "      <td>7475329</td>\n",
              "      <td>2010-01-01 00:02:00</td>\n",
              "      <td>1129</td>\n",
              "      <td>102</td>\n",
              "      <td>80.00</td>\n",
              "      <td>Swipe Transaction</td>\n",
              "      <td>27092.0</td>\n",
              "      <td>Vista</td>\n",
              "      <td>CA</td>\n",
              "      <td>92084.0</td>\n",
              "      <td>4829.0</td>\n",
              "      <td>NaN</td>\n",
              "      <td>Money Transfer</td>\n",
              "      <td>Financial</td>\n",
              "    </tr>\n",
              "    <tr>\n",
              "      <th>3</th>\n",
              "      <td>7475331</td>\n",
              "      <td>2010-01-01 00:05:00</td>\n",
              "      <td>430</td>\n",
              "      <td>2860</td>\n",
              "      <td>200.00</td>\n",
              "      <td>Swipe Transaction</td>\n",
              "      <td>27092.0</td>\n",
              "      <td>Crown Point</td>\n",
              "      <td>IN</td>\n",
              "      <td>46307.0</td>\n",
              "      <td>4829.0</td>\n",
              "      <td>NaN</td>\n",
              "      <td>Money Transfer</td>\n",
              "      <td>Financial</td>\n",
              "    </tr>\n",
              "    <tr>\n",
              "      <th>4</th>\n",
              "      <td>7475332</td>\n",
              "      <td>2010-01-01 00:06:00</td>\n",
              "      <td>848</td>\n",
              "      <td>3915</td>\n",
              "      <td>46.41</td>\n",
              "      <td>Swipe Transaction</td>\n",
              "      <td>13051.0</td>\n",
              "      <td>Harwood</td>\n",
              "      <td>MD</td>\n",
              "      <td>20776.0</td>\n",
              "      <td>5813.0</td>\n",
              "      <td>NaN</td>\n",
              "      <td>Drinking Places (Alcoholic Beverages)</td>\n",
              "      <td>Food &amp; Drink</td>\n",
              "    </tr>\n",
              "  </tbody>\n",
              "</table>\n",
              "</div>\n",
              "    <div class=\"colab-df-buttons\">\n",
              "\n",
              "  <div class=\"colab-df-container\">\n",
              "    <button class=\"colab-df-convert\" onclick=\"convertToInteractive('df-4aa772f4-4fe9-453e-a4c4-9c0c62c68491')\"\n",
              "            title=\"Convert this dataframe to an interactive table.\"\n",
              "            style=\"display:none;\">\n",
              "\n",
              "  <svg xmlns=\"http://www.w3.org/2000/svg\" height=\"24px\" viewBox=\"0 -960 960 960\">\n",
              "    <path d=\"M120-120v-720h720v720H120Zm60-500h600v-160H180v160Zm220 220h160v-160H400v160Zm0 220h160v-160H400v160ZM180-400h160v-160H180v160Zm440 0h160v-160H620v160ZM180-180h160v-160H180v160Zm440 0h160v-160H620v160Z\"/>\n",
              "  </svg>\n",
              "    </button>\n",
              "\n",
              "  <style>\n",
              "    .colab-df-container {\n",
              "      display:flex;\n",
              "      gap: 12px;\n",
              "    }\n",
              "\n",
              "    .colab-df-convert {\n",
              "      background-color: #E8F0FE;\n",
              "      border: none;\n",
              "      border-radius: 50%;\n",
              "      cursor: pointer;\n",
              "      display: none;\n",
              "      fill: #1967D2;\n",
              "      height: 32px;\n",
              "      padding: 0 0 0 0;\n",
              "      width: 32px;\n",
              "    }\n",
              "\n",
              "    .colab-df-convert:hover {\n",
              "      background-color: #E2EBFA;\n",
              "      box-shadow: 0px 1px 2px rgba(60, 64, 67, 0.3), 0px 1px 3px 1px rgba(60, 64, 67, 0.15);\n",
              "      fill: #174EA6;\n",
              "    }\n",
              "\n",
              "    .colab-df-buttons div {\n",
              "      margin-bottom: 4px;\n",
              "    }\n",
              "\n",
              "    [theme=dark] .colab-df-convert {\n",
              "      background-color: #3B4455;\n",
              "      fill: #D2E3FC;\n",
              "    }\n",
              "\n",
              "    [theme=dark] .colab-df-convert:hover {\n",
              "      background-color: #434B5C;\n",
              "      box-shadow: 0px 1px 3px 1px rgba(0, 0, 0, 0.15);\n",
              "      filter: drop-shadow(0px 1px 2px rgba(0, 0, 0, 0.3));\n",
              "      fill: #FFFFFF;\n",
              "    }\n",
              "  </style>\n",
              "\n",
              "    <script>\n",
              "      const buttonEl =\n",
              "        document.querySelector('#df-4aa772f4-4fe9-453e-a4c4-9c0c62c68491 button.colab-df-convert');\n",
              "      buttonEl.style.display =\n",
              "        google.colab.kernel.accessAllowed ? 'block' : 'none';\n",
              "\n",
              "      async function convertToInteractive(key) {\n",
              "        const element = document.querySelector('#df-4aa772f4-4fe9-453e-a4c4-9c0c62c68491');\n",
              "        const dataTable =\n",
              "          await google.colab.kernel.invokeFunction('convertToInteractive',\n",
              "                                                    [key], {});\n",
              "        if (!dataTable) return;\n",
              "\n",
              "        const docLinkHtml = 'Like what you see? Visit the ' +\n",
              "          '<a target=\"_blank\" href=https://colab.research.google.com/notebooks/data_table.ipynb>data table notebook</a>'\n",
              "          + ' to learn more about interactive tables.';\n",
              "        element.innerHTML = '';\n",
              "        dataTable['output_type'] = 'display_data';\n",
              "        await google.colab.output.renderOutput(dataTable, element);\n",
              "        const docLink = document.createElement('div');\n",
              "        docLink.innerHTML = docLinkHtml;\n",
              "        element.appendChild(docLink);\n",
              "      }\n",
              "    </script>\n",
              "  </div>\n",
              "\n",
              "\n",
              "    <div id=\"df-39dbda56-998f-4cff-82cb-4b13839a36db\">\n",
              "      <button class=\"colab-df-quickchart\" onclick=\"quickchart('df-39dbda56-998f-4cff-82cb-4b13839a36db')\"\n",
              "                title=\"Suggest charts\"\n",
              "                style=\"display:none;\">\n",
              "\n",
              "<svg xmlns=\"http://www.w3.org/2000/svg\" height=\"24px\"viewBox=\"0 0 24 24\"\n",
              "     width=\"24px\">\n",
              "    <g>\n",
              "        <path d=\"M19 3H5c-1.1 0-2 .9-2 2v14c0 1.1.9 2 2 2h14c1.1 0 2-.9 2-2V5c0-1.1-.9-2-2-2zM9 17H7v-7h2v7zm4 0h-2V7h2v10zm4 0h-2v-4h2v4z\"/>\n",
              "    </g>\n",
              "</svg>\n",
              "      </button>\n",
              "\n",
              "<style>\n",
              "  .colab-df-quickchart {\n",
              "      --bg-color: #E8F0FE;\n",
              "      --fill-color: #1967D2;\n",
              "      --hover-bg-color: #E2EBFA;\n",
              "      --hover-fill-color: #174EA6;\n",
              "      --disabled-fill-color: #AAA;\n",
              "      --disabled-bg-color: #DDD;\n",
              "  }\n",
              "\n",
              "  [theme=dark] .colab-df-quickchart {\n",
              "      --bg-color: #3B4455;\n",
              "      --fill-color: #D2E3FC;\n",
              "      --hover-bg-color: #434B5C;\n",
              "      --hover-fill-color: #FFFFFF;\n",
              "      --disabled-bg-color: #3B4455;\n",
              "      --disabled-fill-color: #666;\n",
              "  }\n",
              "\n",
              "  .colab-df-quickchart {\n",
              "    background-color: var(--bg-color);\n",
              "    border: none;\n",
              "    border-radius: 50%;\n",
              "    cursor: pointer;\n",
              "    display: none;\n",
              "    fill: var(--fill-color);\n",
              "    height: 32px;\n",
              "    padding: 0;\n",
              "    width: 32px;\n",
              "  }\n",
              "\n",
              "  .colab-df-quickchart:hover {\n",
              "    background-color: var(--hover-bg-color);\n",
              "    box-shadow: 0 1px 2px rgba(60, 64, 67, 0.3), 0 1px 3px 1px rgba(60, 64, 67, 0.15);\n",
              "    fill: var(--button-hover-fill-color);\n",
              "  }\n",
              "\n",
              "  .colab-df-quickchart-complete:disabled,\n",
              "  .colab-df-quickchart-complete:disabled:hover {\n",
              "    background-color: var(--disabled-bg-color);\n",
              "    fill: var(--disabled-fill-color);\n",
              "    box-shadow: none;\n",
              "  }\n",
              "\n",
              "  .colab-df-spinner {\n",
              "    border: 2px solid var(--fill-color);\n",
              "    border-color: transparent;\n",
              "    border-bottom-color: var(--fill-color);\n",
              "    animation:\n",
              "      spin 1s steps(1) infinite;\n",
              "  }\n",
              "\n",
              "  @keyframes spin {\n",
              "    0% {\n",
              "      border-color: transparent;\n",
              "      border-bottom-color: var(--fill-color);\n",
              "      border-left-color: var(--fill-color);\n",
              "    }\n",
              "    20% {\n",
              "      border-color: transparent;\n",
              "      border-left-color: var(--fill-color);\n",
              "      border-top-color: var(--fill-color);\n",
              "    }\n",
              "    30% {\n",
              "      border-color: transparent;\n",
              "      border-left-color: var(--fill-color);\n",
              "      border-top-color: var(--fill-color);\n",
              "      border-right-color: var(--fill-color);\n",
              "    }\n",
              "    40% {\n",
              "      border-color: transparent;\n",
              "      border-right-color: var(--fill-color);\n",
              "      border-top-color: var(--fill-color);\n",
              "    }\n",
              "    60% {\n",
              "      border-color: transparent;\n",
              "      border-right-color: var(--fill-color);\n",
              "    }\n",
              "    80% {\n",
              "      border-color: transparent;\n",
              "      border-right-color: var(--fill-color);\n",
              "      border-bottom-color: var(--fill-color);\n",
              "    }\n",
              "    90% {\n",
              "      border-color: transparent;\n",
              "      border-bottom-color: var(--fill-color);\n",
              "    }\n",
              "  }\n",
              "</style>\n",
              "\n",
              "      <script>\n",
              "        async function quickchart(key) {\n",
              "          const quickchartButtonEl =\n",
              "            document.querySelector('#' + key + ' button');\n",
              "          quickchartButtonEl.disabled = true;  // To prevent multiple clicks.\n",
              "          quickchartButtonEl.classList.add('colab-df-spinner');\n",
              "          try {\n",
              "            const charts = await google.colab.kernel.invokeFunction(\n",
              "                'suggestCharts', [key], {});\n",
              "          } catch (error) {\n",
              "            console.error('Error during call to suggestCharts:', error);\n",
              "          }\n",
              "          quickchartButtonEl.classList.remove('colab-df-spinner');\n",
              "          quickchartButtonEl.classList.add('colab-df-quickchart-complete');\n",
              "        }\n",
              "        (() => {\n",
              "          let quickchartButtonEl =\n",
              "            document.querySelector('#df-39dbda56-998f-4cff-82cb-4b13839a36db button');\n",
              "          quickchartButtonEl.style.display =\n",
              "            google.colab.kernel.accessAllowed ? 'block' : 'none';\n",
              "        })();\n",
              "      </script>\n",
              "    </div>\n",
              "\n",
              "    </div>\n",
              "  </div>\n"
            ],
            "application/vnd.google.colaboratory.intrinsic+json": {
              "type": "dataframe",
              "variable_name": "tx_enriched"
            }
          },
          "metadata": {},
          "execution_count": 38
        }
      ]
    },
    {
      "cell_type": "markdown",
      "source": [
        "-------------------------------------------------------------------------------------\n",
        "\n",
        "\n",
        "### another way\n"
      ],
      "metadata": {
        "id": "YreW-iWHJzwy"
      }
    },
    {
      "cell_type": "code",
      "source": [
        "import pandas as pd\n",
        "\n",
        "# Load your transactions data\n",
        "transactions = pd.read_csv('transactions_data.csv')  # replace with your file path\n",
        "\n",
        "# Load MCC codes\n",
        "mcc_codes = pd.read_csv('mcc_codes.csv')  # your GitHub CSV\n",
        "\n",
        "# Keep relevant columns from MCC file (both edited and combined descriptions)\n",
        "mcc_codes = mcc_codes[['mcc', 'edited_description', 'combined_description']]\n",
        "\n",
        "# Merge transactions with MCC descriptions\n",
        "transactions = transactions.merge(mcc_codes, on='mcc', how='left')\n",
        "\n",
        "# Optional: rename columns for clarity\n",
        "transactions.rename(columns={\n",
        "    'edited_description': 'mcc_edited_description',\n",
        "    'combined_description': 'mcc_combined_description'\n",
        "}, inplace=True)\n",
        "\n",
        "# Preview\n",
        "print(transactions.head())\n",
        "\n",
        "# Save enriched transactions\n",
        "transactions.to_csv(\"transactions_with_mcc_names.csv\", index=False)"
      ],
      "metadata": {
        "colab": {
          "base_uri": "https://localhost:8080/"
        },
        "id": "MkLiqRRpJ2RU",
        "outputId": "bfbda596-03ea-4e2c-82d2-6c60bc693e72"
      },
      "execution_count": 11,
      "outputs": [
        {
          "output_type": "stream",
          "name": "stdout",
          "text": [
            "        id                 date  client_id  card_id   amount  \\\n",
            "0  7475327  2010-01-01 00:01:00       1556     2972  $-77.00   \n",
            "1  7475328  2010-01-01 00:02:00        561     4575   $14.57   \n",
            "2  7475329  2010-01-01 00:02:00       1129      102   $80.00   \n",
            "3  7475331  2010-01-01 00:05:00        430     2860  $200.00   \n",
            "4  7475332  2010-01-01 00:06:00        848     3915   $46.41   \n",
            "\n",
            "            use_chip  merchant_id merchant_city merchant_state      zip  \\\n",
            "0  Swipe Transaction      59935.0        Beulah             ND  58523.0   \n",
            "1  Swipe Transaction      67570.0    Bettendorf             IA  52722.0   \n",
            "2  Swipe Transaction      27092.0         Vista             CA  92084.0   \n",
            "3  Swipe Transaction      27092.0   Crown Point             IN  46307.0   \n",
            "4  Swipe Transaction      13051.0       Harwood             MD  20776.0   \n",
            "\n",
            "      mcc errors                             mcc_edited_description  \\\n",
            "0  5499.0    NaN  Misc. Food Stores – Convenience Stores and Spe...   \n",
            "1  5311.0    NaN                                  Department Stores   \n",
            "2  4829.0    NaN                       Money Orders – Wire Transfer   \n",
            "3  4829.0    NaN                       Money Orders – Wire Transfer   \n",
            "4  5813.0    NaN  Drinking Places (Alcoholic Beverages), Bars, T...   \n",
            "\n",
            "                            mcc_combined_description  \n",
            "0  Misc. Food Stores – Convenience Stores and Spe...  \n",
            "1                                  Department Stores  \n",
            "2                       Money Orders – Wire Transfer  \n",
            "3                       Money Orders – Wire Transfer  \n",
            "4  Drinking Places (Alcoholic Beverages), Bars, T...  \n"
          ]
        }
      ]
    }
  ]
}