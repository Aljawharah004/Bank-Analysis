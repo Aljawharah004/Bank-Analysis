{
  "nbformat": 4,
  "nbformat_minor": 0,
  "metadata": {
    "colab": {
      "provenance": [],
      "include_colab_link": true
    },
    "kernelspec": {
      "name": "python3",
      "display_name": "Python 3"
    },
    "language_info": {
      "name": "python"
    }
  },
  "cells": [
    {
      "cell_type": "markdown",
      "metadata": {
        "id": "view-in-github",
        "colab_type": "text"
      },
      "source": [
        "<a href=\"https://colab.research.google.com/github/Aljawharah004/Bank-Analysis/blob/main/datadrip.ipynb\" target=\"_parent\"><img src=\"https://colab.research.google.com/assets/colab-badge.svg\" alt=\"Open In Colab\"/></a>"
      ]
    },
    {
      "cell_type": "code",
      "execution_count": null,
      "metadata": {
        "id": "PYwpQatV39OP"
      },
      "outputs": [],
      "source": [
        "import pandas as pd\n",
        "df_transaction = pd.read_csv('transactions_data.csv')\n",
        "import matplotlib.pyplot as plt\n",
        "import seaborn as sns"
      ]
    },
    {
      "cell_type": "markdown",
      "source": [
        "## MCC API"
      ],
      "metadata": {
        "id": "d1pd8Op4Z9_7"
      }
    },
    {
      "cell_type": "code",
      "source": [
        "!pip install requests pandas mastercard-oauth1-signer"
      ],
      "metadata": {
        "id": "HFThXbqeaBj5",
        "outputId": "623d546b-5ea2-4277-ac9e-c8931cdef607",
        "colab": {
          "base_uri": "https://localhost:8080/"
        }
      },
      "execution_count": null,
      "outputs": [
        {
          "output_type": "stream",
          "name": "stdout",
          "text": [
            "Requirement already satisfied: requests in /usr/local/lib/python3.11/dist-packages (2.32.3)\n",
            "Requirement already satisfied: pandas in /usr/local/lib/python3.11/dist-packages (2.2.2)\n",
            "Requirement already satisfied: mastercard-oauth1-signer in /usr/local/lib/python3.11/dist-packages (1.9.1)\n",
            "Requirement already satisfied: charset-normalizer<4,>=2 in /usr/local/lib/python3.11/dist-packages (from requests) (3.4.3)\n",
            "Requirement already satisfied: idna<4,>=2.5 in /usr/local/lib/python3.11/dist-packages (from requests) (3.10)\n",
            "Requirement already satisfied: urllib3<3,>=1.21.1 in /usr/local/lib/python3.11/dist-packages (from requests) (2.5.0)\n",
            "Requirement already satisfied: certifi>=2017.4.17 in /usr/local/lib/python3.11/dist-packages (from requests) (2025.8.3)\n",
            "Requirement already satisfied: numpy>=1.23.2 in /usr/local/lib/python3.11/dist-packages (from pandas) (2.0.2)\n",
            "Requirement already satisfied: python-dateutil>=2.8.2 in /usr/local/lib/python3.11/dist-packages (from pandas) (2.9.0.post0)\n",
            "Requirement already satisfied: pytz>=2020.1 in /usr/local/lib/python3.11/dist-packages (from pandas) (2025.2)\n",
            "Requirement already satisfied: tzdata>=2022.7 in /usr/local/lib/python3.11/dist-packages (from pandas) (2025.2)\n",
            "Requirement already satisfied: cryptography>=42.0.0 in /usr/local/lib/python3.11/dist-packages (from mastercard-oauth1-signer) (43.0.3)\n",
            "Requirement already satisfied: Deprecated in /usr/local/lib/python3.11/dist-packages (from mastercard-oauth1-signer) (1.2.18)\n",
            "Requirement already satisfied: cffi>=1.12 in /usr/local/lib/python3.11/dist-packages (from cryptography>=42.0.0->mastercard-oauth1-signer) (1.17.1)\n",
            "Requirement already satisfied: six>=1.5 in /usr/local/lib/python3.11/dist-packages (from python-dateutil>=2.8.2->pandas) (1.17.0)\n",
            "Requirement already satisfied: wrapt<2,>=1.10 in /usr/local/lib/python3.11/dist-packages (from Deprecated->mastercard-oauth1-signer) (1.17.2)\n",
            "Requirement already satisfied: pycparser in /usr/local/lib/python3.11/dist-packages (from cffi>=1.12->cryptography>=42.0.0->mastercard-oauth1-signer) (2.22)\n"
          ]
        }
      ]
    },
    {
      "cell_type": "markdown",
      "source": [
        "### Making MCC fetch resilient"
      ],
      "metadata": {
        "id": "GuAMkiRkgnAB"
      }
    },
    {
      "cell_type": "code",
      "source": [
        "import time, json, os, pandas as pd, requests\n",
        "from tenacity import retry, wait_exponential_jitter, stop_after_attempt\n",
        "import oauth1.authenticationutils as authenticationutils\n",
        "from oauth1.oauth_ext import OAuth1RSA\n",
        "\n",
        "# ==== CONFIG ====\n",
        "CONSUMER_KEY = \"OOPKSjljmCim6R4XEytMtGH8AYRu-wh3GMl1mmnh4285d91f!4cf35e5c1c404a1aaf934d99fb0bdf1f0000000000000000\"  # from Mastercard Developer portal\n",
        "P12_PATH     = \"444200750-sandbox.p12\"   # the file you uploaded\n",
        "P12_PASSWORD = \"9v3ThM5M4ggmF!RPfGSfHG6v7y!JC\"                # set when you downloaded the key\n",
        "BASE_URL     = \"https://sandbox.api.mastercard.com/places\"\n",
        "OUT_PATH     = \"mcc_lookup_mastercard.csv\"\n",
        "CACHE_PATH   = \"mcc_pages_cache.jsonl\"  # page-by-page cache\n",
        "\n",
        "# OAuth\n",
        "signing_key = authenticationutils.load_signing_key(P12_PATH, P12_PASSWORD)\n",
        "oauth = OAuth1RSA(CONSUMER_KEY, signing_key)\n",
        "\n",
        "# Retry for transient 5xx (503 etc.)\n",
        "@retry(wait=wait_exponential_jitter(initial=1, max=20), stop=stop_after_attempt(6))\n",
        "def fetch_page(limit: int, offset: int):\n",
        "    url = f\"{BASE_URL}/merchant-category-codes\"\n",
        "    params = {\n",
        "        \"limit\": limit,\n",
        "        \"offset\": offset,\n",
        "        # if backend is touchy, try removing sort entirely:\n",
        "        # \"sort\": \"+merchantCategoryName\"\n",
        "    }\n",
        "    r = requests.get(url, params=params, auth=oauth, headers={\"Accept\": \"application/json\"}, timeout=30)\n",
        "    # Raise on HTTP errors (503 included) so tenacity retries\n",
        "    r.raise_for_status()\n",
        "    return r.json().get(\"merchantCategoryCodes\", [])\n",
        "\n",
        "def save_page_cache(items):\n",
        "    with open(CACHE_PATH, \"a\", encoding=\"utf-8\") as f:\n",
        "        for it in items:\n",
        "            f.write(json.dumps(it, ensure_ascii=False) + \"\\n\")\n",
        "\n",
        "def load_cache_df():\n",
        "    if not os.path.exists(CACHE_PATH):\n",
        "        return pd.DataFrame()\n",
        "    rows = [json.loads(line) for line in open(CACHE_PATH, \"r\", encoding=\"utf-8\")]\n",
        "    return pd.DataFrame(rows)\n",
        "\n",
        "# Try to resume from cache if any\n",
        "df_cached = load_cache_df()\n",
        "seen_count = len(df_cached)\n",
        "print(f\"Cached rows found: {seen_count}\")\n",
        "\n",
        "rows_total = []\n",
        "if seen_count:\n",
        "    rows_total.extend(df_cached.to_dict(\"records\"))\n",
        "\n",
        "# Page through with conservative settings (smaller pages help under load)\n",
        "limit = 100\n",
        "offset = 0 if not seen_count else (seen_count // limit) * limit\n",
        "\n",
        "while True:\n",
        "    try:\n",
        "        items = fetch_page(limit, offset)\n",
        "    except Exception as e:\n",
        "        # last-ditch: small sleep and one manual retry for this offset\n",
        "        time.sleep(3)\n",
        "        try:\n",
        "            items = fetch_page(limit, offset)\n",
        "        except Exception as e2:\n",
        "            print(f\"Stopping at offset={offset} due to repeated errors: {e2}\")\n",
        "            break\n",
        "\n",
        "    if not items:\n",
        "        break\n",
        "\n",
        "    save_page_cache(items)\n",
        "    rows_total.extend(items)\n",
        "\n",
        "    print(f\"Fetched {len(items)} at offset {offset} (total so far: {len(rows_total)})\")\n",
        "    if len(items) < limit:\n",
        "        break\n",
        "    offset += limit\n",
        "\n",
        "# Build DataFrame from all rows (cache + new)\n",
        "mcc_df = pd.DataFrame(rows_total)\n",
        "if mcc_df.empty:\n",
        "    raise RuntimeError(\"No MCC rows fetched; try again in a few minutes.\")\n",
        "\n",
        "# Normalize column names (adjust if your JSON uses different keys)\n",
        "mcc_df = mcc_df.rename(columns={\n",
        "    \"merchantCategoryCode\": \"mcc\",\n",
        "    \"merchantCategoryName\": \"mcc_name\",\n",
        "    \"industryCode\": \"industry_code\",\n",
        "    \"industryName\": \"industry_name\"\n",
        "})\n",
        "mcc_df[\"mcc\"] = mcc_df[\"mcc\"].astype(str).str.zfill(4)\n",
        "mcc_df = mcc_df.drop_duplicates(subset=[\"mcc\"])\n",
        "\n",
        "mcc_df.to_csv(OUT_PATH, index=False)\n",
        "print(f\"Saved {len(mcc_df)} MCC rows to {OUT_PATH}\")"
      ],
      "metadata": {
        "id": "pOntIMqfa9Gy",
        "outputId": "41e388b7-a303-48ff-820d-c81fe90bccad",
        "colab": {
          "base_uri": "https://localhost:8080/",
          "height": 245
        }
      },
      "execution_count": null,
      "outputs": [
        {
          "output_type": "stream",
          "name": "stdout",
          "text": [
            "Cached rows found: 0\n",
            "Stopping at offset=0 due to repeated errors: RetryError[<Future at 0x7acd1789de90 state=finished raised HTTPError>]\n"
          ]
        },
        {
          "output_type": "error",
          "ename": "RuntimeError",
          "evalue": "No MCC rows fetched; try again in a few minutes.",
          "traceback": [
            "\u001b[0;31m---------------------------------------------------------------------------\u001b[0m",
            "\u001b[0;31mRuntimeError\u001b[0m                              Traceback (most recent call last)",
            "\u001b[0;32m/tmp/ipython-input-3350534172.py\u001b[0m in \u001b[0;36m<cell line: 0>\u001b[0;34m()\u001b[0m\n\u001b[1;32m     81\u001b[0m \u001b[0mmcc_df\u001b[0m \u001b[0;34m=\u001b[0m \u001b[0mpd\u001b[0m\u001b[0;34m.\u001b[0m\u001b[0mDataFrame\u001b[0m\u001b[0;34m(\u001b[0m\u001b[0mrows_total\u001b[0m\u001b[0;34m)\u001b[0m\u001b[0;34m\u001b[0m\u001b[0;34m\u001b[0m\u001b[0m\n\u001b[1;32m     82\u001b[0m \u001b[0;32mif\u001b[0m \u001b[0mmcc_df\u001b[0m\u001b[0;34m.\u001b[0m\u001b[0mempty\u001b[0m\u001b[0;34m:\u001b[0m\u001b[0;34m\u001b[0m\u001b[0;34m\u001b[0m\u001b[0m\n\u001b[0;32m---> 83\u001b[0;31m     \u001b[0;32mraise\u001b[0m \u001b[0mRuntimeError\u001b[0m\u001b[0;34m(\u001b[0m\u001b[0;34m\"No MCC rows fetched; try again in a few minutes.\"\u001b[0m\u001b[0;34m)\u001b[0m\u001b[0;34m\u001b[0m\u001b[0;34m\u001b[0m\u001b[0m\n\u001b[0m\u001b[1;32m     84\u001b[0m \u001b[0;34m\u001b[0m\u001b[0m\n\u001b[1;32m     85\u001b[0m \u001b[0;31m# Normalize column names (adjust if your JSON uses different keys)\u001b[0m\u001b[0;34m\u001b[0m\u001b[0;34m\u001b[0m\u001b[0m\n",
            "\u001b[0;31mRuntimeError\u001b[0m: No MCC rows fetched; try again in a few minutes."
          ]
        }
      ]
    },
    {
      "cell_type": "markdown",
      "source": [
        "### Mapping MCC names"
      ],
      "metadata": {
        "id": "NS8HaN-PgxyJ"
      }
    },
    {
      "cell_type": "code",
      "source": [
        "# 1) Load transactions & MCC lookup\n",
        "tx = pd.read_csv(\"transactions.csv\")  # or read_excel(...)\n",
        "mcc_lookup = pd.read_csv(\"mcc_lookup_mastercard.csv\", dtype={\"mcc\": str})\n",
        "\n",
        "# 2) Normalize MCC in tx and merge\n",
        "tx[\"mcc_str\"] = tx[\"mcc\"].astype(str).str.extract(r\"(\\d{4})\")[0].str.zfill(4)\n",
        "tx_enriched = tx.merge(mcc_lookup, left_on=\"mcc_str\", right_on=\"mcc\", how=\"left\")\n",
        "\n",
        "# 3) Bucket for cleaner visuals\n",
        "def bucketize(name):\n",
        "    n = (name or \"\").lower()\n",
        "    if any(k in n for k in [\"grocery\", \"supermarket\", \"convenience\"]): return \"Groceries\"\n",
        "    if any(k in n for k in [\"restaurant\", \"dining\", \"fast food\", \"cafe\"]): return \"Food & Dining\"\n",
        "    if any(k in n for k in [\"hotel\", \"motel\", \"lodging\"]): return \"Travel - Lodging\"\n",
        "    if any(k in n for k in [\"airline\", \"airport\", \"taxi\", \"transport\"]): return \"Travel - Transport\"\n",
        "    if any(k in n for k in [\"fuel\", \"gas\", \"petrol\"]): return \"Fuel\"\n",
        "    if any(k in n for k in [\"clothing\", \"apparel\"]): return \"Apparel\"\n",
        "    return \"Other\"\n",
        "\n",
        "tx_enriched[\"mcc_bucket\"] = tx_enriched[\"mcc_name\"].apply(bucketize)\n",
        "\n",
        "tx_enriched.to_csv(\"transactions_with_mcc_names.csv\", index=False)\n",
        "print(\"Saved transactions_with_mcc_names.csv\")\n"
      ],
      "metadata": {
        "id": "iv6jk3TLhFZA"
      },
      "execution_count": null,
      "outputs": []
    },
    {
      "cell_type": "markdown",
      "source": [
        "#### Emergency fallback"
      ],
      "metadata": {
        "id": "ssuRQUP_hKRg"
      }
    },
    {
      "cell_type": "code",
      "source": [
        "# Build a quick local dictionary for the most common MCCs you see (extend as needed)\n",
        "minimal_map = {\n",
        "    \"5411\": \"Grocery Stores, Supermarkets\",\n",
        "    \"5812\": \"Eating Places, Restaurants\",\n",
        "    \"5814\": \"Fast Food Restaurants\",\n",
        "    \"5541\": \"Service Stations\",\n",
        "    \"5542\": \"Automated Fuel Dispensers\",\n",
        "    \"4111\": \"Local/Suburban Commuter Transportation\",\n",
        "    \"4511\": \"Airlines, Air Carriers\",\n",
        "    \"5311\": \"Department Stores\",\n",
        "    \"5699\": \"Misc. Apparel & Accessory Stores\",\n",
        "    \"5732\": \"Electronics Stores\",\n",
        "    \"5999\": \"Misc. & Specialty Retail\",\n",
        "    \"6011\": \"ATM Financial Institutions\",\n",
        "    \"6012\": \"Financial Institutions–Merchandise/Services\",\n",
        "    \"4814\": \"Telecommunication Services\",\n",
        "    \"4829\": \"Money Orders—Wire Transfer\",\n",
        "    \"4900\": \"Utilities\",\n",
        "    \"7011\": \"Lodging—Hotels, Motels, Resorts\",\n",
        "    \"4112\": \"Passenger Railways\",\n",
        "    \"4121\": \"Taxis/Limousines\",\n",
        "    \"4789\": \"Transportation Services (Not Elsewhere Classified)\"\n",
        "}\n",
        "\n",
        "tx = pd.read_csv(\"transactions.csv\")\n",
        "tx[\"mcc_str\"] = tx[\"mcc\"].astype(str).str.extract(r\"(\\d{4})\")[0].str.zfill(4)\n",
        "tx[\"mcc_name\"] = tx[\"mcc_str\"].map(minimal_map).fillna(\"Unknown\")\n",
        "tx.to_csv(\"transactions_with_mcc_names_partial.csv\", index=False)\n",
        "print(\"Saved transactions_with_mcc_names_partial.csv (temporary mapping)\")\n"
      ],
      "metadata": {
        "id": "r-0h7oD6hQbL"
      },
      "execution_count": null,
      "outputs": []
    },
    {
      "cell_type": "markdown",
      "source": [
        "## general info about cards_data.csv\n"
      ],
      "metadata": {
        "id": "sjhk14QuIc3K"
      }
    },
    {
      "cell_type": "code",
      "source": [
        "import pandas as pd\n",
        "\n",
        "df = pd.read_csv(\"cards_data.csv\")\n",
        "\n",
        "# General structure\n",
        "df.info()\n",
        "\n",
        "# Quick statistics\n",
        "df.describe(include=\"all\")\n",
        "\n",
        "# Missing values count\n",
        "df.isnull().sum()"
      ],
      "metadata": {
        "colab": {
          "base_uri": "https://localhost:8080/",
          "height": 838
        },
        "id": "7JVjRfjAIicv",
        "outputId": "f60101c8-feaa-4932-af96-da1e58859a52"
      },
      "execution_count": 13,
      "outputs": [
        {
          "output_type": "stream",
          "name": "stdout",
          "text": [
            "<class 'pandas.core.frame.DataFrame'>\n",
            "RangeIndex: 6146 entries, 0 to 6145\n",
            "Data columns (total 13 columns):\n",
            " #   Column                 Non-Null Count  Dtype \n",
            "---  ------                 --------------  ----- \n",
            " 0   id                     6146 non-null   int64 \n",
            " 1   client_id              6146 non-null   int64 \n",
            " 2   card_brand             6146 non-null   object\n",
            " 3   card_type              6146 non-null   object\n",
            " 4   card_number            6146 non-null   int64 \n",
            " 5   expires                6146 non-null   object\n",
            " 6   cvv                    6146 non-null   int64 \n",
            " 7   has_chip               6146 non-null   object\n",
            " 8   num_cards_issued       6146 non-null   int64 \n",
            " 9   credit_limit           6146 non-null   object\n",
            " 10  acct_open_date         6146 non-null   object\n",
            " 11  year_pin_last_changed  6146 non-null   int64 \n",
            " 12  card_on_dark_web       6146 non-null   object\n",
            "dtypes: int64(6), object(7)\n",
            "memory usage: 624.3+ KB\n"
          ]
        },
        {
          "output_type": "execute_result",
          "data": {
            "text/plain": [
              "id                       0\n",
              "client_id                0\n",
              "card_brand               0\n",
              "card_type                0\n",
              "card_number              0\n",
              "expires                  0\n",
              "cvv                      0\n",
              "has_chip                 0\n",
              "num_cards_issued         0\n",
              "credit_limit             0\n",
              "acct_open_date           0\n",
              "year_pin_last_changed    0\n",
              "card_on_dark_web         0\n",
              "dtype: int64"
            ],
            "text/html": [
              "<div>\n",
              "<style scoped>\n",
              "    .dataframe tbody tr th:only-of-type {\n",
              "        vertical-align: middle;\n",
              "    }\n",
              "\n",
              "    .dataframe tbody tr th {\n",
              "        vertical-align: top;\n",
              "    }\n",
              "\n",
              "    .dataframe thead th {\n",
              "        text-align: right;\n",
              "    }\n",
              "</style>\n",
              "<table border=\"1\" class=\"dataframe\">\n",
              "  <thead>\n",
              "    <tr style=\"text-align: right;\">\n",
              "      <th></th>\n",
              "      <th>0</th>\n",
              "    </tr>\n",
              "  </thead>\n",
              "  <tbody>\n",
              "    <tr>\n",
              "      <th>id</th>\n",
              "      <td>0</td>\n",
              "    </tr>\n",
              "    <tr>\n",
              "      <th>client_id</th>\n",
              "      <td>0</td>\n",
              "    </tr>\n",
              "    <tr>\n",
              "      <th>card_brand</th>\n",
              "      <td>0</td>\n",
              "    </tr>\n",
              "    <tr>\n",
              "      <th>card_type</th>\n",
              "      <td>0</td>\n",
              "    </tr>\n",
              "    <tr>\n",
              "      <th>card_number</th>\n",
              "      <td>0</td>\n",
              "    </tr>\n",
              "    <tr>\n",
              "      <th>expires</th>\n",
              "      <td>0</td>\n",
              "    </tr>\n",
              "    <tr>\n",
              "      <th>cvv</th>\n",
              "      <td>0</td>\n",
              "    </tr>\n",
              "    <tr>\n",
              "      <th>has_chip</th>\n",
              "      <td>0</td>\n",
              "    </tr>\n",
              "    <tr>\n",
              "      <th>num_cards_issued</th>\n",
              "      <td>0</td>\n",
              "    </tr>\n",
              "    <tr>\n",
              "      <th>credit_limit</th>\n",
              "      <td>0</td>\n",
              "    </tr>\n",
              "    <tr>\n",
              "      <th>acct_open_date</th>\n",
              "      <td>0</td>\n",
              "    </tr>\n",
              "    <tr>\n",
              "      <th>year_pin_last_changed</th>\n",
              "      <td>0</td>\n",
              "    </tr>\n",
              "    <tr>\n",
              "      <th>card_on_dark_web</th>\n",
              "      <td>0</td>\n",
              "    </tr>\n",
              "  </tbody>\n",
              "</table>\n",
              "</div><br><label><b>dtype:</b> int64</label>"
            ]
          },
          "metadata": {},
          "execution_count": 13
        }
      ]
    },
    {
      "cell_type": "code",
      "source": [
        "# Check basic info\n",
        "print(\"Shape:\", df.shape)  # (rows, columns)\n",
        "print(df.head())  # First 5 rows\n",
        "print(df.columns)  # Column names"
      ],
      "metadata": {
        "colab": {
          "base_uri": "https://localhost:8080/"
        },
        "id": "Af8H8wrWI8ZD",
        "outputId": "6c8c542d-0824-489c-d234-297dc4fa5dca"
      },
      "execution_count": 14,
      "outputs": [
        {
          "output_type": "stream",
          "name": "stdout",
          "text": [
            "Shape: (6146, 13)\n",
            "     id  client_id  card_brand        card_type       card_number  expires  \\\n",
            "0  4524        825        Visa            Debit  4344676511950444  12/2022   \n",
            "1  2731        825        Visa            Debit  4956965974959986  12/2020   \n",
            "2  3701        825        Visa            Debit  4582313478255491  02/2024   \n",
            "3    42        825        Visa           Credit  4879494103069057  08/2024   \n",
            "4  4659        825  Mastercard  Debit (Prepaid)  5722874738736011  03/2009   \n",
            "\n",
            "   cvv has_chip  num_cards_issued credit_limit acct_open_date  \\\n",
            "0  623      YES                 2       $24295        09/2002   \n",
            "1  393      YES                 2       $21968        04/2014   \n",
            "2  719      YES                 2       $46414        07/2003   \n",
            "3  693       NO                 1       $12400        01/2003   \n",
            "4   75      YES                 1          $28        09/2008   \n",
            "\n",
            "   year_pin_last_changed card_on_dark_web  \n",
            "0                   2008               No  \n",
            "1                   2014               No  \n",
            "2                   2004               No  \n",
            "3                   2012               No  \n",
            "4                   2009               No  \n",
            "Index(['id', 'client_id', 'card_brand', 'card_type', 'card_number', 'expires',\n",
            "       'cvv', 'has_chip', 'num_cards_issued', 'credit_limit', 'acct_open_date',\n",
            "       'year_pin_last_changed', 'card_on_dark_web'],\n",
            "      dtype='object')\n"
          ]
        }
      ]
    },
    {
      "cell_type": "markdown",
      "source": [
        "### cards_data.csv errors check\n"
      ],
      "metadata": {
        "id": "hNlNrcI6IB5H"
      }
    },
    {
      "cell_type": "code",
      "source": [
        "import pandas as pd\n",
        "\n",
        "df = pd.read_csv(\"cards_data.csv\")\n",
        "\n",
        "# Remove $ and convert to numeric (NaN if invalid)\n",
        "df[\"credit_limit\"] = pd.to_numeric(df[\"credit_limit\"].str.replace(\"$\", \"\", regex=False), errors=\"coerce\")\n",
        "\n",
        "# Find invalid rows\n",
        "invalid_rows = df[df[\"credit_limit\"].isna() | (df[\"credit_limit\"] < 0)]\n",
        "\n",
        "print(invalid_rows)"
      ],
      "metadata": {
        "colab": {
          "base_uri": "https://localhost:8080/"
        },
        "id": "XL1z7flNHTvX",
        "outputId": "2b573d26-1d6e-4b6e-ef23-6a23c0a58844"
      },
      "execution_count": 19,
      "outputs": [
        {
          "output_type": "stream",
          "name": "stdout",
          "text": [
            "Empty DataFrame\n",
            "Columns: [id, client_id, card_brand, card_type, card_number, expires, cvv, has_chip, num_cards_issued, credit_limit, acct_open_date, year_pin_last_changed, card_on_dark_web]\n",
            "Index: []\n"
          ]
        }
      ]
    },
    {
      "cell_type": "markdown",
      "source": [
        "## general info about users_data.csv\n"
      ],
      "metadata": {
        "id": "1XqLuOExJwcw"
      }
    },
    {
      "cell_type": "code",
      "source": [
        "import pandas as pd\n",
        "\n",
        "df = pd.read_csv(\"users_data.csv\")\n",
        "\n",
        "# General structure\n",
        "df.info()\n",
        "\n",
        "# Quick statistics\n",
        "df.describe(include=\"all\")\n",
        "\n",
        "# Missing values count\n",
        "df.isnull().sum()"
      ],
      "metadata": {
        "colab": {
          "base_uri": "https://localhost:8080/",
          "height": 887
        },
        "id": "zlXE_5CmJhml",
        "outputId": "759cf038-36a4-4fe4-a704-df4b76e23eb3"
      },
      "execution_count": 6,
      "outputs": [
        {
          "output_type": "stream",
          "name": "stdout",
          "text": [
            "<class 'pandas.core.frame.DataFrame'>\n",
            "RangeIndex: 2000 entries, 0 to 1999\n",
            "Data columns (total 14 columns):\n",
            " #   Column             Non-Null Count  Dtype  \n",
            "---  ------             --------------  -----  \n",
            " 0   id                 2000 non-null   int64  \n",
            " 1   current_age        2000 non-null   int64  \n",
            " 2   retirement_age     2000 non-null   int64  \n",
            " 3   birth_year         2000 non-null   int64  \n",
            " 4   birth_month        2000 non-null   int64  \n",
            " 5   gender             2000 non-null   object \n",
            " 6   address            2000 non-null   object \n",
            " 7   latitude           2000 non-null   float64\n",
            " 8   longitude          2000 non-null   float64\n",
            " 9   per_capita_income  2000 non-null   object \n",
            " 10  yearly_income      2000 non-null   object \n",
            " 11  total_debt         2000 non-null   object \n",
            " 12  credit_score       2000 non-null   int64  \n",
            " 13  num_credit_cards   2000 non-null   int64  \n",
            "dtypes: float64(2), int64(7), object(5)\n",
            "memory usage: 218.9+ KB\n"
          ]
        },
        {
          "output_type": "execute_result",
          "data": {
            "text/plain": [
              "id                   0\n",
              "current_age          0\n",
              "retirement_age       0\n",
              "birth_year           0\n",
              "birth_month          0\n",
              "gender               0\n",
              "address              0\n",
              "latitude             0\n",
              "longitude            0\n",
              "per_capita_income    0\n",
              "yearly_income        0\n",
              "total_debt           0\n",
              "credit_score         0\n",
              "num_credit_cards     0\n",
              "dtype: int64"
            ],
            "text/html": [
              "<div>\n",
              "<style scoped>\n",
              "    .dataframe tbody tr th:only-of-type {\n",
              "        vertical-align: middle;\n",
              "    }\n",
              "\n",
              "    .dataframe tbody tr th {\n",
              "        vertical-align: top;\n",
              "    }\n",
              "\n",
              "    .dataframe thead th {\n",
              "        text-align: right;\n",
              "    }\n",
              "</style>\n",
              "<table border=\"1\" class=\"dataframe\">\n",
              "  <thead>\n",
              "    <tr style=\"text-align: right;\">\n",
              "      <th></th>\n",
              "      <th>0</th>\n",
              "    </tr>\n",
              "  </thead>\n",
              "  <tbody>\n",
              "    <tr>\n",
              "      <th>id</th>\n",
              "      <td>0</td>\n",
              "    </tr>\n",
              "    <tr>\n",
              "      <th>current_age</th>\n",
              "      <td>0</td>\n",
              "    </tr>\n",
              "    <tr>\n",
              "      <th>retirement_age</th>\n",
              "      <td>0</td>\n",
              "    </tr>\n",
              "    <tr>\n",
              "      <th>birth_year</th>\n",
              "      <td>0</td>\n",
              "    </tr>\n",
              "    <tr>\n",
              "      <th>birth_month</th>\n",
              "      <td>0</td>\n",
              "    </tr>\n",
              "    <tr>\n",
              "      <th>gender</th>\n",
              "      <td>0</td>\n",
              "    </tr>\n",
              "    <tr>\n",
              "      <th>address</th>\n",
              "      <td>0</td>\n",
              "    </tr>\n",
              "    <tr>\n",
              "      <th>latitude</th>\n",
              "      <td>0</td>\n",
              "    </tr>\n",
              "    <tr>\n",
              "      <th>longitude</th>\n",
              "      <td>0</td>\n",
              "    </tr>\n",
              "    <tr>\n",
              "      <th>per_capita_income</th>\n",
              "      <td>0</td>\n",
              "    </tr>\n",
              "    <tr>\n",
              "      <th>yearly_income</th>\n",
              "      <td>0</td>\n",
              "    </tr>\n",
              "    <tr>\n",
              "      <th>total_debt</th>\n",
              "      <td>0</td>\n",
              "    </tr>\n",
              "    <tr>\n",
              "      <th>credit_score</th>\n",
              "      <td>0</td>\n",
              "    </tr>\n",
              "    <tr>\n",
              "      <th>num_credit_cards</th>\n",
              "      <td>0</td>\n",
              "    </tr>\n",
              "  </tbody>\n",
              "</table>\n",
              "</div><br><label><b>dtype:</b> int64</label>"
            ]
          },
          "metadata": {},
          "execution_count": 6
        }
      ]
    },
    {
      "cell_type": "markdown",
      "source": [
        "### userss_data.csv errors check"
      ],
      "metadata": {
        "id": "aUcS7oFqKdDE"
      }
    },
    {
      "cell_type": "code",
      "source": [
        "# Remove $ and commas, handle parentheses as negative values\n",
        "for col in [\"per_capita_income\", \"yearly_income\", \"total_debt\"]:\n",
        "    df[col] = (\n",
        "        df[col]\n",
        "        .astype(str)  # ensure string\n",
        "        .str.replace(\"$\", \"\", regex=False)  # remove dollar sign\n",
        "        .str.replace(\",\", \"\", regex=False)  # remove commas\n",
        "        .str.replace(r\"\\((.*?)\\)\", r\"-\\1\", regex=True)  # convert (123) to -123\n",
        "    )\n",
        "    df[col] = pd.to_numeric(df[col], errors=\"coerce\")  # convert to numeric"
      ],
      "metadata": {
        "id": "XrHoIHXnJ4WO"
      },
      "execution_count": 8,
      "outputs": []
    },
    {
      "cell_type": "markdown",
      "source": [
        "## general info about transactions_data.csv"
      ],
      "metadata": {
        "id": "CIsDX_pDMd0q"
      }
    },
    {
      "cell_type": "code",
      "source": [
        "import pandas as pd\n",
        "\n",
        "df = pd.read_csv(\"transactions_data.csv\")\n",
        "\n",
        "# General structure\n",
        "df.info()\n",
        "\n",
        "# Quick statistics\n",
        "df.describe(include=\"all\")\n",
        "\n",
        "# Missing values count\n",
        "df.isnull().sum()"
      ],
      "metadata": {
        "colab": {
          "base_uri": "https://localhost:8080/",
          "height": 790
        },
        "id": "n0q5OEAlMZvT",
        "outputId": "ddca70fb-3228-4405-8e5c-01cb4b7b1358"
      },
      "execution_count": 20,
      "outputs": [
        {
          "output_type": "stream",
          "name": "stdout",
          "text": [
            "<class 'pandas.core.frame.DataFrame'>\n",
            "RangeIndex: 6912260 entries, 0 to 6912259\n",
            "Data columns (total 12 columns):\n",
            " #   Column          Dtype  \n",
            "---  ------          -----  \n",
            " 0   id              int64  \n",
            " 1   date            object \n",
            " 2   client_id       float64\n",
            " 3   card_id         float64\n",
            " 4   amount          object \n",
            " 5   use_chip        object \n",
            " 6   merchant_id     float64\n",
            " 7   merchant_city   object \n",
            " 8   merchant_state  object \n",
            " 9   zip             float64\n",
            " 10  mcc             float64\n",
            " 11  errors          object \n",
            "dtypes: float64(5), int64(1), object(6)\n",
            "memory usage: 632.8+ MB\n"
          ]
        },
        {
          "output_type": "execute_result",
          "data": {
            "text/plain": [
              "id                      0\n",
              "date                    0\n",
              "client_id               1\n",
              "card_id                 1\n",
              "amount                  1\n",
              "use_chip                1\n",
              "merchant_id             1\n",
              "merchant_city           1\n",
              "merchant_state     781676\n",
              "zip                825942\n",
              "mcc                     1\n",
              "errors            6802829\n",
              "dtype: int64"
            ],
            "text/html": [
              "<div>\n",
              "<style scoped>\n",
              "    .dataframe tbody tr th:only-of-type {\n",
              "        vertical-align: middle;\n",
              "    }\n",
              "\n",
              "    .dataframe tbody tr th {\n",
              "        vertical-align: top;\n",
              "    }\n",
              "\n",
              "    .dataframe thead th {\n",
              "        text-align: right;\n",
              "    }\n",
              "</style>\n",
              "<table border=\"1\" class=\"dataframe\">\n",
              "  <thead>\n",
              "    <tr style=\"text-align: right;\">\n",
              "      <th></th>\n",
              "      <th>0</th>\n",
              "    </tr>\n",
              "  </thead>\n",
              "  <tbody>\n",
              "    <tr>\n",
              "      <th>id</th>\n",
              "      <td>0</td>\n",
              "    </tr>\n",
              "    <tr>\n",
              "      <th>date</th>\n",
              "      <td>0</td>\n",
              "    </tr>\n",
              "    <tr>\n",
              "      <th>client_id</th>\n",
              "      <td>1</td>\n",
              "    </tr>\n",
              "    <tr>\n",
              "      <th>card_id</th>\n",
              "      <td>1</td>\n",
              "    </tr>\n",
              "    <tr>\n",
              "      <th>amount</th>\n",
              "      <td>1</td>\n",
              "    </tr>\n",
              "    <tr>\n",
              "      <th>use_chip</th>\n",
              "      <td>1</td>\n",
              "    </tr>\n",
              "    <tr>\n",
              "      <th>merchant_id</th>\n",
              "      <td>1</td>\n",
              "    </tr>\n",
              "    <tr>\n",
              "      <th>merchant_city</th>\n",
              "      <td>1</td>\n",
              "    </tr>\n",
              "    <tr>\n",
              "      <th>merchant_state</th>\n",
              "      <td>781676</td>\n",
              "    </tr>\n",
              "    <tr>\n",
              "      <th>zip</th>\n",
              "      <td>825942</td>\n",
              "    </tr>\n",
              "    <tr>\n",
              "      <th>mcc</th>\n",
              "      <td>1</td>\n",
              "    </tr>\n",
              "    <tr>\n",
              "      <th>errors</th>\n",
              "      <td>6802829</td>\n",
              "    </tr>\n",
              "  </tbody>\n",
              "</table>\n",
              "</div><br><label><b>dtype:</b> int64</label>"
            ]
          },
          "metadata": {},
          "execution_count": 20
        }
      ]
    },
    {
      "cell_type": "code",
      "source": [
        "# Drop rows where any of the specified columns are null\n",
        "df_clean = df.dropna(subset=[\"client_id\", \"card_id\", \"amount\", \"use_chip\", \"mcc\"])\n",
        "\n",
        "# Check the result\n",
        "print(f\"Rows after cleaning: {len(df_clean)}\")"
      ],
      "metadata": {
        "colab": {
          "base_uri": "https://localhost:8080/"
        },
        "id": "RXq0K7CFNP3J",
        "outputId": "060af39b-e9f7-479e-81f1-522af176a3b6"
      },
      "execution_count": 23,
      "outputs": [
        {
          "output_type": "stream",
          "name": "stdout",
          "text": [
            "Rows after cleaning: 6912259\n"
          ]
        }
      ]
    },
    {
      "cell_type": "markdown",
      "source": [
        "### transactions_data.csv errors check"
      ],
      "metadata": {
        "id": "65H1hwazOTgi"
      }
    },
    {
      "cell_type": "code",
      "source": [
        "# Clean amount column\n",
        "df_clean[\"amount\"] = (\n",
        "    df_clean[\"amount\"]\n",
        "    .astype(str)  # ensure it's string\n",
        "    .str.replace(\"$\", \"\", regex=False)  # remove dollar sign\n",
        "    .str.replace(\",\", \"\", regex=False)  # remove commas if any\n",
        "    .str.replace(r\"\\((.*?)\\)\", r\"-\\1\", regex=True)  # convert (123.45) to -123.45\n",
        ")\n",
        "\n",
        "# Convert to numeric\n",
        "df_clean[\"amount\"] = pd.to_numeric(df_clean[\"amount\"], errors=\"coerce\")\n",
        "\n",
        "# Check\n",
        "print(df_clean[\"amount\"].head(20))"
      ],
      "metadata": {
        "colab": {
          "base_uri": "https://localhost:8080/"
        },
        "id": "UHejsMa2OQtC",
        "outputId": "9703cdad-4885-4cc7-a7d9-1bfb3433b922"
      },
      "execution_count": 24,
      "outputs": [
        {
          "output_type": "stream",
          "name": "stderr",
          "text": [
            "/tmp/ipython-input-1361183022.py:2: SettingWithCopyWarning: \n",
            "A value is trying to be set on a copy of a slice from a DataFrame.\n",
            "Try using .loc[row_indexer,col_indexer] = value instead\n",
            "\n",
            "See the caveats in the documentation: https://pandas.pydata.org/pandas-docs/stable/user_guide/indexing.html#returning-a-view-versus-a-copy\n",
            "  df_clean[\"amount\"] = (\n"
          ]
        },
        {
          "output_type": "stream",
          "name": "stdout",
          "text": [
            "0     -77.00\n",
            "1      14.57\n",
            "2      80.00\n",
            "3     200.00\n",
            "4      46.41\n",
            "5       4.81\n",
            "6      77.00\n",
            "7      26.46\n",
            "8     261.58\n",
            "9      10.74\n",
            "10      3.51\n",
            "11      2.58\n",
            "12     39.63\n",
            "13     43.33\n",
            "14     49.42\n",
            "15      1.09\n",
            "16     73.79\n",
            "17    100.00\n",
            "18     26.04\n",
            "19    -64.00\n",
            "Name: amount, dtype: float64\n"
          ]
        },
        {
          "output_type": "stream",
          "name": "stderr",
          "text": [
            "/tmp/ipython-input-1361183022.py:11: SettingWithCopyWarning: \n",
            "A value is trying to be set on a copy of a slice from a DataFrame.\n",
            "Try using .loc[row_indexer,col_indexer] = value instead\n",
            "\n",
            "See the caveats in the documentation: https://pandas.pydata.org/pandas-docs/stable/user_guide/indexing.html#returning-a-view-versus-a-copy\n",
            "  df_clean[\"amount\"] = pd.to_numeric(df_clean[\"amount\"], errors=\"coerce\")\n"
          ]
        }
      ]
    }
  ]
}