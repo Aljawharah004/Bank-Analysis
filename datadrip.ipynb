{
  "nbformat": 4,
  "nbformat_minor": 0,
  "metadata": {
    "colab": {
      "provenance": [],
      "include_colab_link": true
    },
    "kernelspec": {
      "name": "python3",
      "display_name": "Python 3"
    },
    "language_info": {
      "name": "python"
    }
  },
  "cells": [
    {
      "cell_type": "markdown",
      "metadata": {
        "id": "view-in-github",
        "colab_type": "text"
      },
      "source": [
        "<a href=\"https://colab.research.google.com/github/Aljawharah004/Bank-Analysis/blob/main/datadrip.ipynb\" target=\"_parent\"><img src=\"https://colab.research.google.com/assets/colab-badge.svg\" alt=\"Open In Colab\"/></a>"
      ]
    },
    {
      "cell_type": "code",
      "execution_count": 1,
      "metadata": {
        "id": "PYwpQatV39OP"
      },
      "outputs": [],
      "source": [
        "import pandas as pd\n",
        "df_transaction = pd.read_csv('transactions_data.csv')\n",
        "import matplotlib.pyplot as plt\n",
        "import seaborn as sns"
      ]
    },
    {
      "cell_type": "markdown",
      "source": [
        "## MCC API"
      ],
      "metadata": {
        "id": "d1pd8Op4Z9_7"
      }
    },
    {
      "cell_type": "code",
      "source": [
        "!pip install requests pandas mastercard-oauth1-signer"
      ],
      "metadata": {
        "id": "HFThXbqeaBj5",
        "outputId": "623d546b-5ea2-4277-ac9e-c8931cdef607",
        "colab": {
          "base_uri": "https://localhost:8080/"
        }
      },
      "execution_count": 6,
      "outputs": [
        {
          "output_type": "stream",
          "name": "stdout",
          "text": [
            "Requirement already satisfied: requests in /usr/local/lib/python3.11/dist-packages (2.32.3)\n",
            "Requirement already satisfied: pandas in /usr/local/lib/python3.11/dist-packages (2.2.2)\n",
            "Requirement already satisfied: mastercard-oauth1-signer in /usr/local/lib/python3.11/dist-packages (1.9.1)\n",
            "Requirement already satisfied: charset-normalizer<4,>=2 in /usr/local/lib/python3.11/dist-packages (from requests) (3.4.3)\n",
            "Requirement already satisfied: idna<4,>=2.5 in /usr/local/lib/python3.11/dist-packages (from requests) (3.10)\n",
            "Requirement already satisfied: urllib3<3,>=1.21.1 in /usr/local/lib/python3.11/dist-packages (from requests) (2.5.0)\n",
            "Requirement already satisfied: certifi>=2017.4.17 in /usr/local/lib/python3.11/dist-packages (from requests) (2025.8.3)\n",
            "Requirement already satisfied: numpy>=1.23.2 in /usr/local/lib/python3.11/dist-packages (from pandas) (2.0.2)\n",
            "Requirement already satisfied: python-dateutil>=2.8.2 in /usr/local/lib/python3.11/dist-packages (from pandas) (2.9.0.post0)\n",
            "Requirement already satisfied: pytz>=2020.1 in /usr/local/lib/python3.11/dist-packages (from pandas) (2025.2)\n",
            "Requirement already satisfied: tzdata>=2022.7 in /usr/local/lib/python3.11/dist-packages (from pandas) (2025.2)\n",
            "Requirement already satisfied: cryptography>=42.0.0 in /usr/local/lib/python3.11/dist-packages (from mastercard-oauth1-signer) (43.0.3)\n",
            "Requirement already satisfied: Deprecated in /usr/local/lib/python3.11/dist-packages (from mastercard-oauth1-signer) (1.2.18)\n",
            "Requirement already satisfied: cffi>=1.12 in /usr/local/lib/python3.11/dist-packages (from cryptography>=42.0.0->mastercard-oauth1-signer) (1.17.1)\n",
            "Requirement already satisfied: six>=1.5 in /usr/local/lib/python3.11/dist-packages (from python-dateutil>=2.8.2->pandas) (1.17.0)\n",
            "Requirement already satisfied: wrapt<2,>=1.10 in /usr/local/lib/python3.11/dist-packages (from Deprecated->mastercard-oauth1-signer) (1.17.2)\n",
            "Requirement already satisfied: pycparser in /usr/local/lib/python3.11/dist-packages (from cffi>=1.12->cryptography>=42.0.0->mastercard-oauth1-signer) (2.22)\n"
          ]
        }
      ]
    },
    {
      "cell_type": "markdown",
      "source": [
        "### Making MCC fetch resilient"
      ],
      "metadata": {
        "id": "GuAMkiRkgnAB"
      }
    },
    {
      "cell_type": "code",
      "source": [
        "import time, json, os, pandas as pd, requests\n",
        "from tenacity import retry, wait_exponential_jitter, stop_after_attempt\n",
        "import oauth1.authenticationutils as authenticationutils\n",
        "from oauth1.oauth_ext import OAuth1RSA\n",
        "\n",
        "# ==== CONFIG ====\n",
        "CONSUMER_KEY = \"OOPKSjljmCim6R4XEytMtGH8AYRu-wh3GMl1mmnh4285d91f!4cf35e5c1c404a1aaf934d99fb0bdf1f0000000000000000\"  # from Mastercard Developer portal\n",
        "P12_PATH     = \"444200750-sandbox.p12\"   # the file you uploaded\n",
        "P12_PASSWORD = \"9v3ThM5M4ggmF!RPfGSfHG6v7y!JC\"                # set when you downloaded the key\n",
        "BASE_URL     = \"https://sandbox.api.mastercard.com/places\"\n",
        "OUT_PATH     = \"mcc_lookup_mastercard.csv\"\n",
        "CACHE_PATH   = \"mcc_pages_cache.jsonl\"  # page-by-page cache\n",
        "\n",
        "# OAuth\n",
        "signing_key = authenticationutils.load_signing_key(P12_PATH, P12_PASSWORD)\n",
        "oauth = OAuth1RSA(CONSUMER_KEY, signing_key)\n",
        "\n",
        "# Retry for transient 5xx (503 etc.)\n",
        "@retry(wait=wait_exponential_jitter(initial=1, max=20), stop=stop_after_attempt(6))\n",
        "def fetch_page(limit: int, offset: int):\n",
        "    url = f\"{BASE_URL}/merchant-category-codes\"\n",
        "    params = {\n",
        "        \"limit\": limit,\n",
        "        \"offset\": offset,\n",
        "        # if backend is touchy, try removing sort entirely:\n",
        "        # \"sort\": \"+merchantCategoryName\"\n",
        "    }\n",
        "    r = requests.get(url, params=params, auth=oauth, headers={\"Accept\": \"application/json\"}, timeout=30)\n",
        "    # Raise on HTTP errors (503 included) so tenacity retries\n",
        "    r.raise_for_status()\n",
        "    return r.json().get(\"merchantCategoryCodes\", [])\n",
        "\n",
        "def save_page_cache(items):\n",
        "    with open(CACHE_PATH, \"a\", encoding=\"utf-8\") as f:\n",
        "        for it in items:\n",
        "            f.write(json.dumps(it, ensure_ascii=False) + \"\\n\")\n",
        "\n",
        "def load_cache_df():\n",
        "    if not os.path.exists(CACHE_PATH):\n",
        "        return pd.DataFrame()\n",
        "    rows = [json.loads(line) for line in open(CACHE_PATH, \"r\", encoding=\"utf-8\")]\n",
        "    return pd.DataFrame(rows)\n",
        "\n",
        "# Try to resume from cache if any\n",
        "df_cached = load_cache_df()\n",
        "seen_count = len(df_cached)\n",
        "print(f\"Cached rows found: {seen_count}\")\n",
        "\n",
        "rows_total = []\n",
        "if seen_count:\n",
        "    rows_total.extend(df_cached.to_dict(\"records\"))\n",
        "\n",
        "# Page through with conservative settings (smaller pages help under load)\n",
        "limit = 100\n",
        "offset = 0 if not seen_count else (seen_count // limit) * limit\n",
        "\n",
        "while True:\n",
        "    try:\n",
        "        items = fetch_page(limit, offset)\n",
        "    except Exception as e:\n",
        "        # last-ditch: small sleep and one manual retry for this offset\n",
        "        time.sleep(3)\n",
        "        try:\n",
        "            items = fetch_page(limit, offset)\n",
        "        except Exception as e2:\n",
        "            print(f\"Stopping at offset={offset} due to repeated errors: {e2}\")\n",
        "            break\n",
        "\n",
        "    if not items:\n",
        "        break\n",
        "\n",
        "    save_page_cache(items)\n",
        "    rows_total.extend(items)\n",
        "\n",
        "    print(f\"Fetched {len(items)} at offset {offset} (total so far: {len(rows_total)})\")\n",
        "    if len(items) < limit:\n",
        "        break\n",
        "    offset += limit\n",
        "\n",
        "# Build DataFrame from all rows (cache + new)\n",
        "mcc_df = pd.DataFrame(rows_total)\n",
        "if mcc_df.empty:\n",
        "    raise RuntimeError(\"No MCC rows fetched; try again in a few minutes.\")\n",
        "\n",
        "# Normalize column names (adjust if your JSON uses different keys)\n",
        "mcc_df = mcc_df.rename(columns={\n",
        "    \"merchantCategoryCode\": \"mcc\",\n",
        "    \"merchantCategoryName\": \"mcc_name\",\n",
        "    \"industryCode\": \"industry_code\",\n",
        "    \"industryName\": \"industry_name\"\n",
        "})\n",
        "mcc_df[\"mcc\"] = mcc_df[\"mcc\"].astype(str).str.zfill(4)\n",
        "mcc_df = mcc_df.drop_duplicates(subset=[\"mcc\"])\n",
        "\n",
        "mcc_df.to_csv(OUT_PATH, index=False)\n",
        "print(f\"Saved {len(mcc_df)} MCC rows to {OUT_PATH}\")"
      ],
      "metadata": {
        "id": "pOntIMqfa9Gy",
        "outputId": "41e388b7-a303-48ff-820d-c81fe90bccad",
        "colab": {
          "base_uri": "https://localhost:8080/",
          "height": 245
        }
      },
      "execution_count": 14,
      "outputs": [
        {
          "output_type": "stream",
          "name": "stdout",
          "text": [
            "Cached rows found: 0\n",
            "Stopping at offset=0 due to repeated errors: RetryError[<Future at 0x7acd1789de90 state=finished raised HTTPError>]\n"
          ]
        },
        {
          "output_type": "error",
          "ename": "RuntimeError",
          "evalue": "No MCC rows fetched; try again in a few minutes.",
          "traceback": [
            "\u001b[0;31m---------------------------------------------------------------------------\u001b[0m",
            "\u001b[0;31mRuntimeError\u001b[0m                              Traceback (most recent call last)",
            "\u001b[0;32m/tmp/ipython-input-3350534172.py\u001b[0m in \u001b[0;36m<cell line: 0>\u001b[0;34m()\u001b[0m\n\u001b[1;32m     81\u001b[0m \u001b[0mmcc_df\u001b[0m \u001b[0;34m=\u001b[0m \u001b[0mpd\u001b[0m\u001b[0;34m.\u001b[0m\u001b[0mDataFrame\u001b[0m\u001b[0;34m(\u001b[0m\u001b[0mrows_total\u001b[0m\u001b[0;34m)\u001b[0m\u001b[0;34m\u001b[0m\u001b[0;34m\u001b[0m\u001b[0m\n\u001b[1;32m     82\u001b[0m \u001b[0;32mif\u001b[0m \u001b[0mmcc_df\u001b[0m\u001b[0;34m.\u001b[0m\u001b[0mempty\u001b[0m\u001b[0;34m:\u001b[0m\u001b[0;34m\u001b[0m\u001b[0;34m\u001b[0m\u001b[0m\n\u001b[0;32m---> 83\u001b[0;31m     \u001b[0;32mraise\u001b[0m \u001b[0mRuntimeError\u001b[0m\u001b[0;34m(\u001b[0m\u001b[0;34m\"No MCC rows fetched; try again in a few minutes.\"\u001b[0m\u001b[0;34m)\u001b[0m\u001b[0;34m\u001b[0m\u001b[0;34m\u001b[0m\u001b[0m\n\u001b[0m\u001b[1;32m     84\u001b[0m \u001b[0;34m\u001b[0m\u001b[0m\n\u001b[1;32m     85\u001b[0m \u001b[0;31m# Normalize column names (adjust if your JSON uses different keys)\u001b[0m\u001b[0;34m\u001b[0m\u001b[0;34m\u001b[0m\u001b[0m\n",
            "\u001b[0;31mRuntimeError\u001b[0m: No MCC rows fetched; try again in a few minutes."
          ]
        }
      ]
    },
    {
      "cell_type": "markdown",
      "source": [
        "### Mapping MCC names"
      ],
      "metadata": {
        "id": "NS8HaN-PgxyJ"
      }
    },
    {
      "cell_type": "code",
      "source": [
        "# 1) Load transactions & MCC lookup\n",
        "tx = pd.read_csv(\"transactions.csv\")  # or read_excel(...)\n",
        "mcc_lookup = pd.read_csv(\"mcc_lookup_mastercard.csv\", dtype={\"mcc\": str})\n",
        "\n",
        "# 2) Normalize MCC in tx and merge\n",
        "tx[\"mcc_str\"] = tx[\"mcc\"].astype(str).str.extract(r\"(\\d{4})\")[0].str.zfill(4)\n",
        "tx_enriched = tx.merge(mcc_lookup, left_on=\"mcc_str\", right_on=\"mcc\", how=\"left\")\n",
        "\n",
        "# 3) Bucket for cleaner visuals\n",
        "def bucketize(name):\n",
        "    n = (name or \"\").lower()\n",
        "    if any(k in n for k in [\"grocery\", \"supermarket\", \"convenience\"]): return \"Groceries\"\n",
        "    if any(k in n for k in [\"restaurant\", \"dining\", \"fast food\", \"cafe\"]): return \"Food & Dining\"\n",
        "    if any(k in n for k in [\"hotel\", \"motel\", \"lodging\"]): return \"Travel - Lodging\"\n",
        "    if any(k in n for k in [\"airline\", \"airport\", \"taxi\", \"transport\"]): return \"Travel - Transport\"\n",
        "    if any(k in n for k in [\"fuel\", \"gas\", \"petrol\"]): return \"Fuel\"\n",
        "    if any(k in n for k in [\"clothing\", \"apparel\"]): return \"Apparel\"\n",
        "    return \"Other\"\n",
        "\n",
        "tx_enriched[\"mcc_bucket\"] = tx_enriched[\"mcc_name\"].apply(bucketize)\n",
        "\n",
        "tx_enriched.to_csv(\"transactions_with_mcc_names.csv\", index=False)\n",
        "print(\"Saved transactions_with_mcc_names.csv\")\n"
      ],
      "metadata": {
        "id": "iv6jk3TLhFZA"
      },
      "execution_count": null,
      "outputs": []
    },
    {
      "cell_type": "markdown",
      "source": [
        "#### Emergency fallback"
      ],
      "metadata": {
        "id": "ssuRQUP_hKRg"
      }
    },
    {
      "cell_type": "code",
      "source": [
        "# Build a quick local dictionary for the most common MCCs you see (extend as needed)\n",
        "minimal_map = {\n",
        "    \"5411\": \"Grocery Stores, Supermarkets\",\n",
        "    \"5812\": \"Eating Places, Restaurants\",\n",
        "    \"5814\": \"Fast Food Restaurants\",\n",
        "    \"5541\": \"Service Stations\",\n",
        "    \"5542\": \"Automated Fuel Dispensers\",\n",
        "    \"4111\": \"Local/Suburban Commuter Transportation\",\n",
        "    \"4511\": \"Airlines, Air Carriers\",\n",
        "    \"5311\": \"Department Stores\",\n",
        "    \"5699\": \"Misc. Apparel & Accessory Stores\",\n",
        "    \"5732\": \"Electronics Stores\",\n",
        "    \"5999\": \"Misc. & Specialty Retail\",\n",
        "    \"6011\": \"ATM Financial Institutions\",\n",
        "    \"6012\": \"Financial Institutions–Merchandise/Services\",\n",
        "    \"4814\": \"Telecommunication Services\",\n",
        "    \"4829\": \"Money Orders—Wire Transfer\",\n",
        "    \"4900\": \"Utilities\",\n",
        "    \"7011\": \"Lodging—Hotels, Motels, Resorts\",\n",
        "    \"4112\": \"Passenger Railways\",\n",
        "    \"4121\": \"Taxis/Limousines\",\n",
        "    \"4789\": \"Transportation Services (Not Elsewhere Classified)\"\n",
        "}\n",
        "\n",
        "tx = pd.read_csv(\"transactions.csv\")\n",
        "tx[\"mcc_str\"] = tx[\"mcc\"].astype(str).str.extract(r\"(\\d{4})\")[0].str.zfill(4)\n",
        "tx[\"mcc_name\"] = tx[\"mcc_str\"].map(minimal_map).fillna(\"Unknown\")\n",
        "tx.to_csv(\"transactions_with_mcc_names_partial.csv\", index=False)\n",
        "print(\"Saved transactions_with_mcc_names_partial.csv (temporary mapping)\")\n"
      ],
      "metadata": {
        "id": "r-0h7oD6hQbL"
      },
      "execution_count": null,
      "outputs": []
    }
  ]
}